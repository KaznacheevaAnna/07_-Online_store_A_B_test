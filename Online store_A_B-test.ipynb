{
 "cells": [
  {
   "cell_type": "markdown",
   "metadata": {},
   "source": [
    "# Принятие решений в бизнесе. A/B тестирование"
   ]
  },
  {
   "cell_type": "markdown",
   "metadata": {},
   "source": [
    "**Цель проекта:**\n",
    "Приоритизировать гипотезы, запустить A/B-тест, проанализировать результаты и вернуться с рекомендациями\n",
    "\n",
    "**План исследования:**\n",
    "\n",
    "1. Загрузить все необходимые библиотеки\n",
    "\n",
    "2. Проверить на пропуски и дубликаты, при необходимости удалить строки, удаления которых не повлияет на итоговый результат\n",
    "\n",
    "3. Изменить тип данных, привести к единому регистру\n",
    "\n",
    "4. Проверить на аномальные значения\n",
    "\n",
    "5. Приоритизировать гипотезы\n",
    "\n",
    "6. Проанализировать результаты A/B-теста\n",
    "\n",
    "7. Описать выводы и рекомендации\n",
    "\n",
    "**Описания контекста:**\n",
    "\n",
    "1. Проверила все таблицы на пропуски (метод info показал, что пропусков нет), дубликаты (отсутствуют), привела наименование столбцов датафрейма data к нижнему регистру для удобства, а также проверила таблицы на аномальные/отрицательные значения методом describe (отрицательных значений нет, аномальные есть - уберем их в процессе анализа А/В теста). А также проверила группы на наличие клиента в двух группах одновременно и на соотношения кол-ва клиентов в группах - незначительные отклонения.\n",
    "\n",
    "2. Приоритизировала гипотезы методом ICE и RICE, выбрала топ-3 гипотез с учетом анализа двух методов.\n",
    "\n",
    "3. Проанализировала результаты теста A/B по \"сырым\" и \"очищенным\" данным.\n",
    "\n",
    "4. Описала вывод/результат теста"
   ]
  },
  {
   "cell_type": "code",
   "execution_count": 1,
   "metadata": {},
   "outputs": [],
   "source": [
    "#загрузила библиотеки и датафреймы\n",
    "import pandas as pd\n",
    "import datetime as dt\n",
    "import numpy as np\n",
    "import scipy.stats as stats\n",
    "import matplotlib.pyplot as plt\n",
    "import seaborn as sns\n",
    "sns.set(rc={'figure.figsize':(15,10)})"
   ]
  },
  {
   "cell_type": "code",
   "execution_count": 2,
   "metadata": {},
   "outputs": [],
   "source": [
    "#загрузила датафреймы\n",
    "data = pd.read_csv('/datasets/hypothesis.csv')\n",
    "orders, visitors = (\n",
    "    pd.read_csv('/datasets/orders.csv'),\n",
    "    pd.read_csv('/datasets/visitors.csv'),\n",
    ")"
   ]
  },
  {
   "cell_type": "markdown",
   "metadata": {},
   "source": [
    "**Вводная часть. Предобработка данных**"
   ]
  },
  {
   "cell_type": "code",
   "execution_count": 3,
   "metadata": {},
   "outputs": [
    {
     "name": "stdout",
     "output_type": "stream",
     "text": [
      "<class 'pandas.core.frame.DataFrame'>\n",
      "RangeIndex: 9 entries, 0 to 8\n",
      "Data columns (total 5 columns):\n",
      " #   Column      Non-Null Count  Dtype \n",
      "---  ------      --------------  ----- \n",
      " 0   Hypothesis  9 non-null      object\n",
      " 1   Reach       9 non-null      int64 \n",
      " 2   Impact      9 non-null      int64 \n",
      " 3   Confidence  9 non-null      int64 \n",
      " 4   Efforts     9 non-null      int64 \n",
      "dtypes: int64(4), object(1)\n",
      "memory usage: 488.0+ bytes\n",
      "<class 'pandas.core.frame.DataFrame'>\n",
      "RangeIndex: 1197 entries, 0 to 1196\n",
      "Data columns (total 5 columns):\n",
      " #   Column         Non-Null Count  Dtype \n",
      "---  ------         --------------  ----- \n",
      " 0   transactionId  1197 non-null   int64 \n",
      " 1   visitorId      1197 non-null   int64 \n",
      " 2   date           1197 non-null   object\n",
      " 3   revenue        1197 non-null   int64 \n",
      " 4   group          1197 non-null   object\n",
      "dtypes: int64(3), object(2)\n",
      "memory usage: 46.9+ KB\n",
      "<class 'pandas.core.frame.DataFrame'>\n",
      "RangeIndex: 62 entries, 0 to 61\n",
      "Data columns (total 3 columns):\n",
      " #   Column    Non-Null Count  Dtype \n",
      "---  ------    --------------  ----- \n",
      " 0   date      62 non-null     object\n",
      " 1   group     62 non-null     object\n",
      " 2   visitors  62 non-null     int64 \n",
      "dtypes: int64(1), object(2)\n",
      "memory usage: 1.6+ KB\n"
     ]
    },
    {
     "data": {
      "text/plain": [
       "0"
      ]
     },
     "metadata": {},
     "output_type": "display_data"
    },
    {
     "data": {
      "text/plain": [
       "0"
      ]
     },
     "metadata": {},
     "output_type": "display_data"
    },
    {
     "data": {
      "text/plain": [
       "0"
      ]
     },
     "execution_count": 3,
     "metadata": {},
     "output_type": "execute_result"
    }
   ],
   "source": [
    "#проверила на пропуски и дубликаты\n",
    "data.info()\n",
    "orders.info()\n",
    "visitors.info()\n",
    "display(data.duplicated().sum())\n",
    "display(orders.duplicated().sum())\n",
    "visitors.duplicated().sum()"
   ]
  },
  {
   "cell_type": "markdown",
   "metadata": {},
   "source": [
    "**Вывод: пропусков и дубликатов нет**"
   ]
  },
  {
   "cell_type": "code",
   "execution_count": 4,
   "metadata": {},
   "outputs": [],
   "source": [
    "#изменила тип данных и привела наименование столбцов к нижнему регистру.\n",
    "#преобразовала к таймстемпу\n",
    "orders['date'] = pd.to_datetime(orders['date'])\n",
    "visitors['date'] = pd.to_datetime(visitors['date'])\n",
    "\n",
    "data.columns = data.columns.str.lower()"
   ]
  },
  {
   "cell_type": "code",
   "execution_count": 5,
   "metadata": {},
   "outputs": [
    {
     "data": {
      "text/html": [
       "<div>\n",
       "<style scoped>\n",
       "    .dataframe tbody tr th:only-of-type {\n",
       "        vertical-align: middle;\n",
       "    }\n",
       "\n",
       "    .dataframe tbody tr th {\n",
       "        vertical-align: top;\n",
       "    }\n",
       "\n",
       "    .dataframe thead th {\n",
       "        text-align: right;\n",
       "    }\n",
       "</style>\n",
       "<table border=\"1\" class=\"dataframe\">\n",
       "  <thead>\n",
       "    <tr style=\"text-align: right;\">\n",
       "      <th></th>\n",
       "      <th>reach</th>\n",
       "      <th>impact</th>\n",
       "      <th>confidence</th>\n",
       "      <th>efforts</th>\n",
       "    </tr>\n",
       "  </thead>\n",
       "  <tbody>\n",
       "    <tr>\n",
       "      <th>count</th>\n",
       "      <td>9.000000</td>\n",
       "      <td>9.000000</td>\n",
       "      <td>9.000000</td>\n",
       "      <td>9.000000</td>\n",
       "    </tr>\n",
       "    <tr>\n",
       "      <th>mean</th>\n",
       "      <td>4.777778</td>\n",
       "      <td>4.777778</td>\n",
       "      <td>5.555556</td>\n",
       "      <td>4.888889</td>\n",
       "    </tr>\n",
       "    <tr>\n",
       "      <th>std</th>\n",
       "      <td>3.153481</td>\n",
       "      <td>3.192874</td>\n",
       "      <td>3.045944</td>\n",
       "      <td>2.803767</td>\n",
       "    </tr>\n",
       "    <tr>\n",
       "      <th>min</th>\n",
       "      <td>1.000000</td>\n",
       "      <td>1.000000</td>\n",
       "      <td>1.000000</td>\n",
       "      <td>1.000000</td>\n",
       "    </tr>\n",
       "    <tr>\n",
       "      <th>25%</th>\n",
       "      <td>3.000000</td>\n",
       "      <td>3.000000</td>\n",
       "      <td>3.000000</td>\n",
       "      <td>3.000000</td>\n",
       "    </tr>\n",
       "    <tr>\n",
       "      <th>50%</th>\n",
       "      <td>3.000000</td>\n",
       "      <td>3.000000</td>\n",
       "      <td>7.000000</td>\n",
       "      <td>5.000000</td>\n",
       "    </tr>\n",
       "    <tr>\n",
       "      <th>75%</th>\n",
       "      <td>8.000000</td>\n",
       "      <td>7.000000</td>\n",
       "      <td>8.000000</td>\n",
       "      <td>6.000000</td>\n",
       "    </tr>\n",
       "    <tr>\n",
       "      <th>max</th>\n",
       "      <td>10.000000</td>\n",
       "      <td>10.000000</td>\n",
       "      <td>9.000000</td>\n",
       "      <td>10.000000</td>\n",
       "    </tr>\n",
       "  </tbody>\n",
       "</table>\n",
       "</div>"
      ],
      "text/plain": [
       "           reach     impact  confidence    efforts\n",
       "count   9.000000   9.000000    9.000000   9.000000\n",
       "mean    4.777778   4.777778    5.555556   4.888889\n",
       "std     3.153481   3.192874    3.045944   2.803767\n",
       "min     1.000000   1.000000    1.000000   1.000000\n",
       "25%     3.000000   3.000000    3.000000   3.000000\n",
       "50%     3.000000   3.000000    7.000000   5.000000\n",
       "75%     8.000000   7.000000    8.000000   6.000000\n",
       "max    10.000000  10.000000    9.000000  10.000000"
      ]
     },
     "execution_count": 5,
     "metadata": {},
     "output_type": "execute_result"
    }
   ],
   "source": [
    "#проверила на аномальные/отрицательные/нулевые значения\n",
    "data.describe()"
   ]
  },
  {
   "cell_type": "code",
   "execution_count": 6,
   "metadata": {},
   "outputs": [
    {
     "data": {
      "text/html": [
       "<div>\n",
       "<style scoped>\n",
       "    .dataframe tbody tr th:only-of-type {\n",
       "        vertical-align: middle;\n",
       "    }\n",
       "\n",
       "    .dataframe tbody tr th {\n",
       "        vertical-align: top;\n",
       "    }\n",
       "\n",
       "    .dataframe thead th {\n",
       "        text-align: right;\n",
       "    }\n",
       "</style>\n",
       "<table border=\"1\" class=\"dataframe\">\n",
       "  <thead>\n",
       "    <tr style=\"text-align: right;\">\n",
       "      <th></th>\n",
       "      <th>transactionId</th>\n",
       "      <th>visitorId</th>\n",
       "      <th>revenue</th>\n",
       "    </tr>\n",
       "  </thead>\n",
       "  <tbody>\n",
       "    <tr>\n",
       "      <th>count</th>\n",
       "      <td>1.197000e+03</td>\n",
       "      <td>1.197000e+03</td>\n",
       "      <td>1.197000e+03</td>\n",
       "    </tr>\n",
       "    <tr>\n",
       "      <th>mean</th>\n",
       "      <td>2.155621e+09</td>\n",
       "      <td>2.165960e+09</td>\n",
       "      <td>8.348006e+03</td>\n",
       "    </tr>\n",
       "    <tr>\n",
       "      <th>std</th>\n",
       "      <td>1.229085e+09</td>\n",
       "      <td>1.236014e+09</td>\n",
       "      <td>3.919113e+04</td>\n",
       "    </tr>\n",
       "    <tr>\n",
       "      <th>min</th>\n",
       "      <td>1.062393e+06</td>\n",
       "      <td>5.114589e+06</td>\n",
       "      <td>5.000000e+01</td>\n",
       "    </tr>\n",
       "    <tr>\n",
       "      <th>25%</th>\n",
       "      <td>1.166776e+09</td>\n",
       "      <td>1.111826e+09</td>\n",
       "      <td>1.220000e+03</td>\n",
       "    </tr>\n",
       "    <tr>\n",
       "      <th>50%</th>\n",
       "      <td>2.145194e+09</td>\n",
       "      <td>2.217985e+09</td>\n",
       "      <td>2.978000e+03</td>\n",
       "    </tr>\n",
       "    <tr>\n",
       "      <th>75%</th>\n",
       "      <td>3.237740e+09</td>\n",
       "      <td>3.177606e+09</td>\n",
       "      <td>8.290000e+03</td>\n",
       "    </tr>\n",
       "    <tr>\n",
       "      <th>max</th>\n",
       "      <td>4.293856e+09</td>\n",
       "      <td>4.283872e+09</td>\n",
       "      <td>1.294500e+06</td>\n",
       "    </tr>\n",
       "  </tbody>\n",
       "</table>\n",
       "</div>"
      ],
      "text/plain": [
       "       transactionId     visitorId       revenue\n",
       "count   1.197000e+03  1.197000e+03  1.197000e+03\n",
       "mean    2.155621e+09  2.165960e+09  8.348006e+03\n",
       "std     1.229085e+09  1.236014e+09  3.919113e+04\n",
       "min     1.062393e+06  5.114589e+06  5.000000e+01\n",
       "25%     1.166776e+09  1.111826e+09  1.220000e+03\n",
       "50%     2.145194e+09  2.217985e+09  2.978000e+03\n",
       "75%     3.237740e+09  3.177606e+09  8.290000e+03\n",
       "max     4.293856e+09  4.283872e+09  1.294500e+06"
      ]
     },
     "execution_count": 6,
     "metadata": {},
     "output_type": "execute_result"
    }
   ],
   "source": [
    "orders.describe()"
   ]
  },
  {
   "cell_type": "code",
   "execution_count": 7,
   "metadata": {},
   "outputs": [
    {
     "data": {
      "text/html": [
       "<div>\n",
       "<style scoped>\n",
       "    .dataframe tbody tr th:only-of-type {\n",
       "        vertical-align: middle;\n",
       "    }\n",
       "\n",
       "    .dataframe tbody tr th {\n",
       "        vertical-align: top;\n",
       "    }\n",
       "\n",
       "    .dataframe thead th {\n",
       "        text-align: right;\n",
       "    }\n",
       "</style>\n",
       "<table border=\"1\" class=\"dataframe\">\n",
       "  <thead>\n",
       "    <tr style=\"text-align: right;\">\n",
       "      <th></th>\n",
       "      <th>visitors</th>\n",
       "    </tr>\n",
       "  </thead>\n",
       "  <tbody>\n",
       "    <tr>\n",
       "      <th>count</th>\n",
       "      <td>62.000000</td>\n",
       "    </tr>\n",
       "    <tr>\n",
       "      <th>mean</th>\n",
       "      <td>607.290323</td>\n",
       "    </tr>\n",
       "    <tr>\n",
       "      <th>std</th>\n",
       "      <td>114.400560</td>\n",
       "    </tr>\n",
       "    <tr>\n",
       "      <th>min</th>\n",
       "      <td>361.000000</td>\n",
       "    </tr>\n",
       "    <tr>\n",
       "      <th>25%</th>\n",
       "      <td>534.000000</td>\n",
       "    </tr>\n",
       "    <tr>\n",
       "      <th>50%</th>\n",
       "      <td>624.500000</td>\n",
       "    </tr>\n",
       "    <tr>\n",
       "      <th>75%</th>\n",
       "      <td>710.500000</td>\n",
       "    </tr>\n",
       "    <tr>\n",
       "      <th>max</th>\n",
       "      <td>770.000000</td>\n",
       "    </tr>\n",
       "  </tbody>\n",
       "</table>\n",
       "</div>"
      ],
      "text/plain": [
       "         visitors\n",
       "count   62.000000\n",
       "mean   607.290323\n",
       "std    114.400560\n",
       "min    361.000000\n",
       "25%    534.000000\n",
       "50%    624.500000\n",
       "75%    710.500000\n",
       "max    770.000000"
      ]
     },
     "execution_count": 7,
     "metadata": {},
     "output_type": "execute_result"
    }
   ],
   "source": [
    "visitors.describe()"
   ]
  },
  {
   "cell_type": "markdown",
   "metadata": {},
   "source": [
    "**Вывод: Метод describe показал, что отрицательных/нулевых значений - нет, аномальные есть - уберем их в процессе анализа А/В теста**"
   ]
  },
  {
   "cell_type": "code",
   "execution_count": 8,
   "metadata": {},
   "outputs": [
    {
     "data": {
      "text/html": [
       "<div>\n",
       "<style scoped>\n",
       "    .dataframe tbody tr th:only-of-type {\n",
       "        vertical-align: middle;\n",
       "    }\n",
       "\n",
       "    .dataframe tbody tr th {\n",
       "        vertical-align: top;\n",
       "    }\n",
       "\n",
       "    .dataframe thead th {\n",
       "        text-align: right;\n",
       "    }\n",
       "</style>\n",
       "<table border=\"1\" class=\"dataframe\">\n",
       "  <thead>\n",
       "    <tr style=\"text-align: right;\">\n",
       "      <th></th>\n",
       "      <th>visitorId</th>\n",
       "    </tr>\n",
       "    <tr>\n",
       "      <th>group</th>\n",
       "      <th></th>\n",
       "    </tr>\n",
       "  </thead>\n",
       "  <tbody>\n",
       "    <tr>\n",
       "      <th>A</th>\n",
       "      <td>503</td>\n",
       "    </tr>\n",
       "    <tr>\n",
       "      <th>B</th>\n",
       "      <td>586</td>\n",
       "    </tr>\n",
       "  </tbody>\n",
       "</table>\n",
       "</div>"
      ],
      "text/plain": [
       "       visitorId\n",
       "group           \n",
       "A            503\n",
       "B            586"
      ]
     },
     "metadata": {},
     "output_type": "display_data"
    },
    {
     "data": {
      "text/plain": [
       "1031"
      ]
     },
     "execution_count": 8,
     "metadata": {},
     "output_type": "execute_result"
    }
   ],
   "source": [
    "display(orders.groupby('group').agg({'visitorId':'nunique'}))\n",
    "orders['visitorId'].nunique()"
   ]
  },
  {
   "cell_type": "markdown",
   "metadata": {},
   "source": [
    "**Вывод: есть незначительное кол-во клиентов, которые относятся к обеим группам. Группа В по кол-ву клиентов больше, необходимо это учитывать при анализе**"
   ]
  },
  {
   "cell_type": "markdown",
   "metadata": {},
   "source": [
    "**Часть 1. Приоритизация гипотез**"
   ]
  },
  {
   "cell_type": "code",
   "execution_count": 9,
   "metadata": {},
   "outputs": [
    {
     "data": {
      "text/html": [
       "<div>\n",
       "<style scoped>\n",
       "    .dataframe tbody tr th:only-of-type {\n",
       "        vertical-align: middle;\n",
       "    }\n",
       "\n",
       "    .dataframe tbody tr th {\n",
       "        vertical-align: top;\n",
       "    }\n",
       "\n",
       "    .dataframe thead th {\n",
       "        text-align: right;\n",
       "    }\n",
       "</style>\n",
       "<table border=\"1\" class=\"dataframe\">\n",
       "  <thead>\n",
       "    <tr style=\"text-align: right;\">\n",
       "      <th></th>\n",
       "      <th>hypothesis</th>\n",
       "      <th>reach</th>\n",
       "      <th>impact</th>\n",
       "      <th>confidence</th>\n",
       "      <th>efforts</th>\n",
       "      <th>ice</th>\n",
       "    </tr>\n",
       "  </thead>\n",
       "  <tbody>\n",
       "    <tr>\n",
       "      <th>8</th>\n",
       "      <td>Запустить акцию, дающую скидку на товар в день рождения</td>\n",
       "      <td>1</td>\n",
       "      <td>9</td>\n",
       "      <td>9</td>\n",
       "      <td>5</td>\n",
       "      <td>16.200000</td>\n",
       "    </tr>\n",
       "    <tr>\n",
       "      <th>0</th>\n",
       "      <td>Добавить два новых канала привлечения трафика, что позволит привлекать на 30% больше пользователей</td>\n",
       "      <td>3</td>\n",
       "      <td>10</td>\n",
       "      <td>8</td>\n",
       "      <td>6</td>\n",
       "      <td>13.333333</td>\n",
       "    </tr>\n",
       "    <tr>\n",
       "      <th>7</th>\n",
       "      <td>Добавить форму подписки на все основные страницы, чтобы собрать базу клиентов для email-рассылок</td>\n",
       "      <td>10</td>\n",
       "      <td>7</td>\n",
       "      <td>8</td>\n",
       "      <td>5</td>\n",
       "      <td>11.200000</td>\n",
       "    </tr>\n",
       "    <tr>\n",
       "      <th>6</th>\n",
       "      <td>Показать на главной странице баннеры с актуальными акциями и распродажами, чтобы увеличить конверсию</td>\n",
       "      <td>5</td>\n",
       "      <td>3</td>\n",
       "      <td>8</td>\n",
       "      <td>3</td>\n",
       "      <td>8.000000</td>\n",
       "    </tr>\n",
       "    <tr>\n",
       "      <th>2</th>\n",
       "      <td>Добавить блоки рекомендаций товаров на сайт интернет магазина, чтобы повысить конверсию и средний чек заказа</td>\n",
       "      <td>8</td>\n",
       "      <td>3</td>\n",
       "      <td>7</td>\n",
       "      <td>3</td>\n",
       "      <td>7.000000</td>\n",
       "    </tr>\n",
       "    <tr>\n",
       "      <th>1</th>\n",
       "      <td>Запустить собственную службу доставки, что сократит срок доставки заказов</td>\n",
       "      <td>2</td>\n",
       "      <td>5</td>\n",
       "      <td>4</td>\n",
       "      <td>10</td>\n",
       "      <td>2.000000</td>\n",
       "    </tr>\n",
       "    <tr>\n",
       "      <th>5</th>\n",
       "      <td>Добавить страницу отзывов клиентов о магазине, что позволит увеличить количество заказов</td>\n",
       "      <td>3</td>\n",
       "      <td>2</td>\n",
       "      <td>2</td>\n",
       "      <td>3</td>\n",
       "      <td>1.333333</td>\n",
       "    </tr>\n",
       "    <tr>\n",
       "      <th>3</th>\n",
       "      <td>Изменить структура категорий, что увеличит конверсию, т.к. пользователи быстрее найдут нужный товар</td>\n",
       "      <td>8</td>\n",
       "      <td>3</td>\n",
       "      <td>3</td>\n",
       "      <td>8</td>\n",
       "      <td>1.125000</td>\n",
       "    </tr>\n",
       "    <tr>\n",
       "      <th>4</th>\n",
       "      <td>Изменить цвет фона главной страницы, чтобы увеличить вовлеченность пользователей</td>\n",
       "      <td>3</td>\n",
       "      <td>1</td>\n",
       "      <td>1</td>\n",
       "      <td>1</td>\n",
       "      <td>1.000000</td>\n",
       "    </tr>\n",
       "  </tbody>\n",
       "</table>\n",
       "</div>"
      ],
      "text/plain": [
       "                                                                                                     hypothesis  \\\n",
       "8                                                       Запустить акцию, дающую скидку на товар в день рождения   \n",
       "0            Добавить два новых канала привлечения трафика, что позволит привлекать на 30% больше пользователей   \n",
       "7              Добавить форму подписки на все основные страницы, чтобы собрать базу клиентов для email-рассылок   \n",
       "6          Показать на главной странице баннеры с актуальными акциями и распродажами, чтобы увеличить конверсию   \n",
       "2  Добавить блоки рекомендаций товаров на сайт интернет магазина, чтобы повысить конверсию и средний чек заказа   \n",
       "1                                     Запустить собственную службу доставки, что сократит срок доставки заказов   \n",
       "5                      Добавить страницу отзывов клиентов о магазине, что позволит увеличить количество заказов   \n",
       "3           Изменить структура категорий, что увеличит конверсию, т.к. пользователи быстрее найдут нужный товар   \n",
       "4                              Изменить цвет фона главной страницы, чтобы увеличить вовлеченность пользователей   \n",
       "\n",
       "   reach  impact  confidence  efforts        ice  \n",
       "8      1       9           9        5  16.200000  \n",
       "0      3      10           8        6  13.333333  \n",
       "7     10       7           8        5  11.200000  \n",
       "6      5       3           8        3   8.000000  \n",
       "2      8       3           7        3   7.000000  \n",
       "1      2       5           4       10   2.000000  \n",
       "5      3       2           2        3   1.333333  \n",
       "3      8       3           3        8   1.125000  \n",
       "4      3       1           1        1   1.000000  "
      ]
     },
     "execution_count": 9,
     "metadata": {},
     "output_type": "execute_result"
    }
   ],
   "source": [
    "#применила фреймворк ICE\n",
    "data['ice'] = data['impact']*data['confidence']/data['efforts']\n",
    "data_ice = data.sort_values(by='ice', ascending=False)\n",
    "pd.options.display.max_colwidth = 130\n",
    "\n",
    "data_ice"
   ]
  },
  {
   "cell_type": "code",
   "execution_count": 10,
   "metadata": {},
   "outputs": [
    {
     "data": {
      "text/html": [
       "<div>\n",
       "<style scoped>\n",
       "    .dataframe tbody tr th:only-of-type {\n",
       "        vertical-align: middle;\n",
       "    }\n",
       "\n",
       "    .dataframe tbody tr th {\n",
       "        vertical-align: top;\n",
       "    }\n",
       "\n",
       "    .dataframe thead th {\n",
       "        text-align: right;\n",
       "    }\n",
       "</style>\n",
       "<table border=\"1\" class=\"dataframe\">\n",
       "  <thead>\n",
       "    <tr style=\"text-align: right;\">\n",
       "      <th></th>\n",
       "      <th>hypothesis</th>\n",
       "      <th>reach</th>\n",
       "      <th>impact</th>\n",
       "      <th>confidence</th>\n",
       "      <th>efforts</th>\n",
       "      <th>ice</th>\n",
       "      <th>rice</th>\n",
       "    </tr>\n",
       "  </thead>\n",
       "  <tbody>\n",
       "    <tr>\n",
       "      <th>7</th>\n",
       "      <td>Добавить форму подписки на все основные страницы, чтобы собрать базу клиентов для email-рассылок</td>\n",
       "      <td>10</td>\n",
       "      <td>7</td>\n",
       "      <td>8</td>\n",
       "      <td>5</td>\n",
       "      <td>11.200000</td>\n",
       "      <td>112.0</td>\n",
       "    </tr>\n",
       "    <tr>\n",
       "      <th>2</th>\n",
       "      <td>Добавить блоки рекомендаций товаров на сайт интернет магазина, чтобы повысить конверсию и средний чек заказа</td>\n",
       "      <td>8</td>\n",
       "      <td>3</td>\n",
       "      <td>7</td>\n",
       "      <td>3</td>\n",
       "      <td>7.000000</td>\n",
       "      <td>56.0</td>\n",
       "    </tr>\n",
       "    <tr>\n",
       "      <th>0</th>\n",
       "      <td>Добавить два новых канала привлечения трафика, что позволит привлекать на 30% больше пользователей</td>\n",
       "      <td>3</td>\n",
       "      <td>10</td>\n",
       "      <td>8</td>\n",
       "      <td>6</td>\n",
       "      <td>13.333333</td>\n",
       "      <td>40.0</td>\n",
       "    </tr>\n",
       "    <tr>\n",
       "      <th>6</th>\n",
       "      <td>Показать на главной странице баннеры с актуальными акциями и распродажами, чтобы увеличить конверсию</td>\n",
       "      <td>5</td>\n",
       "      <td>3</td>\n",
       "      <td>8</td>\n",
       "      <td>3</td>\n",
       "      <td>8.000000</td>\n",
       "      <td>40.0</td>\n",
       "    </tr>\n",
       "    <tr>\n",
       "      <th>8</th>\n",
       "      <td>Запустить акцию, дающую скидку на товар в день рождения</td>\n",
       "      <td>1</td>\n",
       "      <td>9</td>\n",
       "      <td>9</td>\n",
       "      <td>5</td>\n",
       "      <td>16.200000</td>\n",
       "      <td>16.2</td>\n",
       "    </tr>\n",
       "    <tr>\n",
       "      <th>3</th>\n",
       "      <td>Изменить структура категорий, что увеличит конверсию, т.к. пользователи быстрее найдут нужный товар</td>\n",
       "      <td>8</td>\n",
       "      <td>3</td>\n",
       "      <td>3</td>\n",
       "      <td>8</td>\n",
       "      <td>1.125000</td>\n",
       "      <td>9.0</td>\n",
       "    </tr>\n",
       "    <tr>\n",
       "      <th>1</th>\n",
       "      <td>Запустить собственную службу доставки, что сократит срок доставки заказов</td>\n",
       "      <td>2</td>\n",
       "      <td>5</td>\n",
       "      <td>4</td>\n",
       "      <td>10</td>\n",
       "      <td>2.000000</td>\n",
       "      <td>4.0</td>\n",
       "    </tr>\n",
       "    <tr>\n",
       "      <th>5</th>\n",
       "      <td>Добавить страницу отзывов клиентов о магазине, что позволит увеличить количество заказов</td>\n",
       "      <td>3</td>\n",
       "      <td>2</td>\n",
       "      <td>2</td>\n",
       "      <td>3</td>\n",
       "      <td>1.333333</td>\n",
       "      <td>4.0</td>\n",
       "    </tr>\n",
       "    <tr>\n",
       "      <th>4</th>\n",
       "      <td>Изменить цвет фона главной страницы, чтобы увеличить вовлеченность пользователей</td>\n",
       "      <td>3</td>\n",
       "      <td>1</td>\n",
       "      <td>1</td>\n",
       "      <td>1</td>\n",
       "      <td>1.000000</td>\n",
       "      <td>3.0</td>\n",
       "    </tr>\n",
       "  </tbody>\n",
       "</table>\n",
       "</div>"
      ],
      "text/plain": [
       "                                                                                                     hypothesis  \\\n",
       "7              Добавить форму подписки на все основные страницы, чтобы собрать базу клиентов для email-рассылок   \n",
       "2  Добавить блоки рекомендаций товаров на сайт интернет магазина, чтобы повысить конверсию и средний чек заказа   \n",
       "0            Добавить два новых канала привлечения трафика, что позволит привлекать на 30% больше пользователей   \n",
       "6          Показать на главной странице баннеры с актуальными акциями и распродажами, чтобы увеличить конверсию   \n",
       "8                                                       Запустить акцию, дающую скидку на товар в день рождения   \n",
       "3           Изменить структура категорий, что увеличит конверсию, т.к. пользователи быстрее найдут нужный товар   \n",
       "1                                     Запустить собственную службу доставки, что сократит срок доставки заказов   \n",
       "5                      Добавить страницу отзывов клиентов о магазине, что позволит увеличить количество заказов   \n",
       "4                              Изменить цвет фона главной страницы, чтобы увеличить вовлеченность пользователей   \n",
       "\n",
       "   reach  impact  confidence  efforts        ice   rice  \n",
       "7     10       7           8        5  11.200000  112.0  \n",
       "2      8       3           7        3   7.000000   56.0  \n",
       "0      3      10           8        6  13.333333   40.0  \n",
       "6      5       3           8        3   8.000000   40.0  \n",
       "8      1       9           9        5  16.200000   16.2  \n",
       "3      8       3           3        8   1.125000    9.0  \n",
       "1      2       5           4       10   2.000000    4.0  \n",
       "5      3       2           2        3   1.333333    4.0  \n",
       "4      3       1           1        1   1.000000    3.0  "
      ]
     },
     "execution_count": 10,
     "metadata": {},
     "output_type": "execute_result"
    }
   ],
   "source": [
    "#применила фреймворк RICE\n",
    "\n",
    "data['rice']=data['reach']*data['impact']*data['confidence']/data['efforts']\n",
    "data_rice = data.sort_values(by='rice', ascending=False)\n",
    "pd.options.display.max_colwidth = 130\n",
    "\n",
    "data_rice"
   ]
  },
  {
   "cell_type": "markdown",
   "metadata": {},
   "source": [
    "**Вывод: \n",
    "за счет объема пользователей, которых затронет изменение (компонент reach) приоритеты гипотез методом RICE изменились. А именно больше всего баллов набрала гипотеза 'Добавить форму подписки на все основные страницы, чтобы собрать базу клиентов для email-рассылок' вместо 'Запустить акцию, дающую скидку на товар в день рождения'. которая имела наивысший балл при методе ICE**\n",
    "\n",
    "**С учетом анализа двух методов можно определить топ-3 гипотез:**\n",
    "1. Добавить форму подписки на все основные страницы, чтобы собрать базу клиентов для email-рассылок\n",
    "2. Добавить два новых канала привлечения трафика, что позволит привлекать на 30% больше пользователей\t\n",
    "3. Показать на главной странице баннеры с актуальными акциями и распродажами, чтобы увеличить конверсию\t"
   ]
  },
  {
   "cell_type": "markdown",
   "metadata": {},
   "source": [
    "**Часть 2. Анализ A/B-теста**"
   ]
  },
  {
   "cell_type": "code",
   "execution_count": 11,
   "metadata": {},
   "outputs": [
    {
     "data": {
      "image/png": "[encoded data removed]",
      "text/plain": [
       "<Figure size 1080x720 with 1 Axes>"
      ]
     },
     "metadata": {},
     "output_type": "display_data"
    }
   ],
   "source": [
    "#построила график кумулятивной выручки по группам\n",
    "OrdersGroupA = (\n",
    "    orders[orders['group'] == 'A']\n",
    "    .groupby('date', as_index = False)\n",
    "    .agg({'transactionId': 'nunique', 'revenue':'sum'})\n",
    ")\n",
    "\n",
    "OrdersGroupA.columns = ['date', 'transactionIdPerA', 'revenuePerA']\n",
    "\n",
    "OrdersACummulative = OrdersGroupA.apply(\n",
    "    lambda x: OrdersGroupA[OrdersGroupA['date'] <= x['date']].agg (\n",
    "        {'date':'max', 'transactionIdPerA':'sum', 'revenuePerA':'sum'}\n",
    "),\n",
    "    axis=1,\n",
    ").sort_values(by=['date'])\n",
    "\n",
    "OrdersACummulative.columns = ['date', 'transactionCummulativeA', 'revenueCummulativeA']\n",
    "\n",
    "OrdersGroupB = (\n",
    "    orders[orders['group'] == 'B']\n",
    "    .groupby('date', as_index = False)\n",
    "    .agg({'transactionId': 'nunique', 'revenue':'sum'})\n",
    ")\n",
    "\n",
    "OrdersGroupB.columns = ['date', 'transactionIdPerB', 'revenuePerB']\n",
    "\n",
    "OrdersBCummulative = OrdersGroupB.apply(\n",
    "    lambda x: OrdersGroupB[OrdersGroupB['date'] <= x['date']].agg (\n",
    "        {'date':'max', 'transactionIdPerB':'sum', 'revenuePerB':'sum'}\n",
    "),\n",
    "    axis=1,\n",
    ").sort_values(by=['date'])\n",
    "\n",
    "OrdersBCummulative.columns = ['date', 'transactionCummulativeB', 'revenueCummulativeB']\n",
    "\n",
    "plt.plot(OrdersACummulative['date'], OrdersACummulative['revenueCummulativeA'], label='A')\n",
    "plt.plot(OrdersBCummulative['date'], OrdersBCummulative['revenueCummulativeB'], label='B')\n",
    "plt.title('Кумулятивная выручка по группам')\n",
    "plt.ylabel('Кумулятивная выручка')\n",
    "plt.legend()\n",
    "plt.show()"
   ]
  },
  {
   "cell_type": "markdown",
   "metadata": {},
   "source": [
    "**Вывод: накопительная выручка группы B значительно выше группы А, необходимо группу В проверить на выбросы, скорей всего 19 числа есть крупная покупка в группе B, которая значительно увеличивает результат**"
   ]
  },
  {
   "cell_type": "code",
   "execution_count": 12,
   "metadata": {},
   "outputs": [
    {
     "data": {
      "text/html": [
       "<div>\n",
       "<style scoped>\n",
       "    .dataframe tbody tr th:only-of-type {\n",
       "        vertical-align: middle;\n",
       "    }\n",
       "\n",
       "    .dataframe tbody tr th {\n",
       "        vertical-align: top;\n",
       "    }\n",
       "\n",
       "    .dataframe thead th {\n",
       "        text-align: right;\n",
       "    }\n",
       "</style>\n",
       "<table border=\"1\" class=\"dataframe\">\n",
       "  <thead>\n",
       "    <tr style=\"text-align: right;\">\n",
       "      <th>group</th>\n",
       "      <th>A</th>\n",
       "      <th>B</th>\n",
       "    </tr>\n",
       "    <tr>\n",
       "      <th>date</th>\n",
       "      <th></th>\n",
       "      <th></th>\n",
       "    </tr>\n",
       "  </thead>\n",
       "  <tbody>\n",
       "    <tr>\n",
       "      <th>2019-08-01</th>\n",
       "      <td>148579</td>\n",
       "      <td>101217</td>\n",
       "    </tr>\n",
       "    <tr>\n",
       "      <th>2019-08-02</th>\n",
       "      <td>93822</td>\n",
       "      <td>165531</td>\n",
       "    </tr>\n",
       "    <tr>\n",
       "      <th>2019-08-03</th>\n",
       "      <td>112473</td>\n",
       "      <td>114248</td>\n",
       "    </tr>\n",
       "    <tr>\n",
       "      <th>2019-08-04</th>\n",
       "      <td>70825</td>\n",
       "      <td>108571</td>\n",
       "    </tr>\n",
       "    <tr>\n",
       "      <th>2019-08-05</th>\n",
       "      <td>124218</td>\n",
       "      <td>92428</td>\n",
       "    </tr>\n",
       "    <tr>\n",
       "      <th>2019-08-06</th>\n",
       "      <td>48484</td>\n",
       "      <td>242342</td>\n",
       "    </tr>\n",
       "    <tr>\n",
       "      <th>2019-08-07</th>\n",
       "      <td>142417</td>\n",
       "      <td>225334</td>\n",
       "    </tr>\n",
       "    <tr>\n",
       "      <th>2019-08-08</th>\n",
       "      <td>96279</td>\n",
       "      <td>220918</td>\n",
       "    </tr>\n",
       "    <tr>\n",
       "      <th>2019-08-09</th>\n",
       "      <td>188506</td>\n",
       "      <td>160812</td>\n",
       "    </tr>\n",
       "    <tr>\n",
       "      <th>2019-08-10</th>\n",
       "      <td>210495</td>\n",
       "      <td>107802</td>\n",
       "    </tr>\n",
       "    <tr>\n",
       "      <th>2019-08-11</th>\n",
       "      <td>77585</td>\n",
       "      <td>53310</td>\n",
       "    </tr>\n",
       "    <tr>\n",
       "      <th>2019-08-12</th>\n",
       "      <td>249190</td>\n",
       "      <td>141554</td>\n",
       "    </tr>\n",
       "    <tr>\n",
       "      <th>2019-08-13</th>\n",
       "      <td>263638</td>\n",
       "      <td>119671</td>\n",
       "    </tr>\n",
       "    <tr>\n",
       "      <th>2019-08-14</th>\n",
       "      <td>64341</td>\n",
       "      <td>171708</td>\n",
       "    </tr>\n",
       "    <tr>\n",
       "      <th>2019-08-15</th>\n",
       "      <td>88205</td>\n",
       "      <td>342499</td>\n",
       "    </tr>\n",
       "    <tr>\n",
       "      <th>2019-08-16</th>\n",
       "      <td>99851</td>\n",
       "      <td>171690</td>\n",
       "    </tr>\n",
       "    <tr>\n",
       "      <th>2019-08-17</th>\n",
       "      <td>50861</td>\n",
       "      <td>81155</td>\n",
       "    </tr>\n",
       "    <tr>\n",
       "      <th>2019-08-18</th>\n",
       "      <td>72398</td>\n",
       "      <td>65831</td>\n",
       "    </tr>\n",
       "    <tr>\n",
       "      <th>2019-08-19</th>\n",
       "      <td>189743</td>\n",
       "      <td>1429920</td>\n",
       "    </tr>\n",
       "    <tr>\n",
       "      <th>2019-08-20</th>\n",
       "      <td>77619</td>\n",
       "      <td>147274</td>\n",
       "    </tr>\n",
       "    <tr>\n",
       "      <th>2019-08-21</th>\n",
       "      <td>174309</td>\n",
       "      <td>163077</td>\n",
       "    </tr>\n",
       "    <tr>\n",
       "      <th>2019-08-22</th>\n",
       "      <td>112741</td>\n",
       "      <td>162355</td>\n",
       "    </tr>\n",
       "    <tr>\n",
       "      <th>2019-08-23</th>\n",
       "      <td>117788</td>\n",
       "      <td>113969</td>\n",
       "    </tr>\n",
       "    <tr>\n",
       "      <th>2019-08-24</th>\n",
       "      <td>127703</td>\n",
       "      <td>95506</td>\n",
       "    </tr>\n",
       "    <tr>\n",
       "      <th>2019-08-25</th>\n",
       "      <td>68634</td>\n",
       "      <td>102862</td>\n",
       "    </tr>\n",
       "    <tr>\n",
       "      <th>2019-08-26</th>\n",
       "      <td>157214</td>\n",
       "      <td>182999</td>\n",
       "    </tr>\n",
       "    <tr>\n",
       "      <th>2019-08-27</th>\n",
       "      <td>286780</td>\n",
       "      <td>147677</td>\n",
       "    </tr>\n",
       "    <tr>\n",
       "      <th>2019-08-28</th>\n",
       "      <td>101122</td>\n",
       "      <td>96008</td>\n",
       "    </tr>\n",
       "    <tr>\n",
       "      <th>2019-08-29</th>\n",
       "      <td>320690</td>\n",
       "      <td>231130</td>\n",
       "    </tr>\n",
       "    <tr>\n",
       "      <th>2019-08-30</th>\n",
       "      <td>86460</td>\n",
       "      <td>215233</td>\n",
       "    </tr>\n",
       "    <tr>\n",
       "      <th>2019-08-31</th>\n",
       "      <td>61833</td>\n",
       "      <td>133129</td>\n",
       "    </tr>\n",
       "  </tbody>\n",
       "</table>\n",
       "</div>"
      ],
      "text/plain": [
       "group            A        B\n",
       "date                       \n",
       "2019-08-01  148579   101217\n",
       "2019-08-02   93822   165531\n",
       "2019-08-03  112473   114248\n",
       "2019-08-04   70825   108571\n",
       "2019-08-05  124218    92428\n",
       "2019-08-06   48484   242342\n",
       "2019-08-07  142417   225334\n",
       "2019-08-08   96279   220918\n",
       "2019-08-09  188506   160812\n",
       "2019-08-10  210495   107802\n",
       "2019-08-11   77585    53310\n",
       "2019-08-12  249190   141554\n",
       "2019-08-13  263638   119671\n",
       "2019-08-14   64341   171708\n",
       "2019-08-15   88205   342499\n",
       "2019-08-16   99851   171690\n",
       "2019-08-17   50861    81155\n",
       "2019-08-18   72398    65831\n",
       "2019-08-19  189743  1429920\n",
       "2019-08-20   77619   147274\n",
       "2019-08-21  174309   163077\n",
       "2019-08-22  112741   162355\n",
       "2019-08-23  117788   113969\n",
       "2019-08-24  127703    95506\n",
       "2019-08-25   68634   102862\n",
       "2019-08-26  157214   182999\n",
       "2019-08-27  286780   147677\n",
       "2019-08-28  101122    96008\n",
       "2019-08-29  320690   231130\n",
       "2019-08-30   86460   215233\n",
       "2019-08-31   61833   133129"
      ]
     },
     "execution_count": 12,
     "metadata": {},
     "output_type": "execute_result"
    }
   ],
   "source": [
    "#посмотрела сводную таблицу по всем продажам в разрезе группы А и В по дням\n",
    "orders.pivot_table(index='date', columns='group', values='revenue', aggfunc='sum')"
   ]
  },
  {
   "cell_type": "code",
   "execution_count": 13,
   "metadata": {},
   "outputs": [
    {
     "data": {
      "text/html": [
       "<div>\n",
       "<style scoped>\n",
       "    .dataframe tbody tr th:only-of-type {\n",
       "        vertical-align: middle;\n",
       "    }\n",
       "\n",
       "    .dataframe tbody tr th {\n",
       "        vertical-align: top;\n",
       "    }\n",
       "\n",
       "    .dataframe thead th {\n",
       "        text-align: right;\n",
       "    }\n",
       "</style>\n",
       "<table border=\"1\" class=\"dataframe\">\n",
       "  <thead>\n",
       "    <tr style=\"text-align: right;\">\n",
       "      <th>group</th>\n",
       "      <th>A</th>\n",
       "      <th>B</th>\n",
       "    </tr>\n",
       "    <tr>\n",
       "      <th>visitorId</th>\n",
       "      <th></th>\n",
       "      <th></th>\n",
       "    </tr>\n",
       "  </thead>\n",
       "  <tbody>\n",
       "    <tr>\n",
       "      <th>154576532</th>\n",
       "      <td>NaN</td>\n",
       "      <td>26550.0</td>\n",
       "    </tr>\n",
       "    <tr>\n",
       "      <th>157579733</th>\n",
       "      <td>NaN</td>\n",
       "      <td>2330.0</td>\n",
       "    </tr>\n",
       "    <tr>\n",
       "      <th>290022471</th>\n",
       "      <td>NaN</td>\n",
       "      <td>16480.0</td>\n",
       "    </tr>\n",
       "    <tr>\n",
       "      <th>393266494</th>\n",
       "      <td>21550.0</td>\n",
       "      <td>NaN</td>\n",
       "    </tr>\n",
       "    <tr>\n",
       "      <th>492739583</th>\n",
       "      <td>750.0</td>\n",
       "      <td>NaN</td>\n",
       "    </tr>\n",
       "    <tr>\n",
       "      <th>517094627</th>\n",
       "      <td>390.0</td>\n",
       "      <td>NaN</td>\n",
       "    </tr>\n",
       "    <tr>\n",
       "      <th>522292794</th>\n",
       "      <td>NaN</td>\n",
       "      <td>4880.0</td>\n",
       "    </tr>\n",
       "    <tr>\n",
       "      <th>990904712</th>\n",
       "      <td>NaN</td>\n",
       "      <td>11249.0</td>\n",
       "    </tr>\n",
       "    <tr>\n",
       "      <th>1060341621</th>\n",
       "      <td>NaN</td>\n",
       "      <td>1100.0</td>\n",
       "    </tr>\n",
       "    <tr>\n",
       "      <th>1335154194</th>\n",
       "      <td>NaN</td>\n",
       "      <td>500.0</td>\n",
       "    </tr>\n",
       "    <tr>\n",
       "      <th>1349865791</th>\n",
       "      <td>2490.0</td>\n",
       "      <td>NaN</td>\n",
       "    </tr>\n",
       "    <tr>\n",
       "      <th>1357170471</th>\n",
       "      <td>31680.0</td>\n",
       "      <td>NaN</td>\n",
       "    </tr>\n",
       "    <tr>\n",
       "      <th>1772171838</th>\n",
       "      <td>1590.0</td>\n",
       "      <td>NaN</td>\n",
       "    </tr>\n",
       "    <tr>\n",
       "      <th>1920142716</th>\n",
       "      <td>NaN</td>\n",
       "      <td>1294500.0</td>\n",
       "    </tr>\n",
       "    <tr>\n",
       "      <th>1957949546</th>\n",
       "      <td>16770.0</td>\n",
       "      <td>NaN</td>\n",
       "    </tr>\n",
       "    <tr>\n",
       "      <th>2075769885</th>\n",
       "      <td>NaN</td>\n",
       "      <td>3525.0</td>\n",
       "    </tr>\n",
       "    <tr>\n",
       "      <th>2091902649</th>\n",
       "      <td>NaN</td>\n",
       "      <td>250.0</td>\n",
       "    </tr>\n",
       "    <tr>\n",
       "      <th>2247745159</th>\n",
       "      <td>NaN</td>\n",
       "      <td>1435.0</td>\n",
       "    </tr>\n",
       "    <tr>\n",
       "      <th>2358787737</th>\n",
       "      <td>2526.0</td>\n",
       "      <td>NaN</td>\n",
       "    </tr>\n",
       "    <tr>\n",
       "      <th>2397843657</th>\n",
       "      <td>NaN</td>\n",
       "      <td>4090.0</td>\n",
       "    </tr>\n",
       "    <tr>\n",
       "      <th>2406916810</th>\n",
       "      <td>NaN</td>\n",
       "      <td>470.0</td>\n",
       "    </tr>\n",
       "    <tr>\n",
       "      <th>2536252163</th>\n",
       "      <td>NaN</td>\n",
       "      <td>20026.0</td>\n",
       "    </tr>\n",
       "    <tr>\n",
       "      <th>2629148010</th>\n",
       "      <td>2690.0</td>\n",
       "      <td>NaN</td>\n",
       "    </tr>\n",
       "    <tr>\n",
       "      <th>2738601405</th>\n",
       "      <td>NaN</td>\n",
       "      <td>50.0</td>\n",
       "    </tr>\n",
       "    <tr>\n",
       "      <th>2744017357</th>\n",
       "      <td>1490.0</td>\n",
       "      <td>NaN</td>\n",
       "    </tr>\n",
       "    <tr>\n",
       "      <th>2758621772</th>\n",
       "      <td>NaN</td>\n",
       "      <td>1130.0</td>\n",
       "    </tr>\n",
       "    <tr>\n",
       "      <th>2763027084</th>\n",
       "      <td>NaN</td>\n",
       "      <td>1460.0</td>\n",
       "    </tr>\n",
       "    <tr>\n",
       "      <th>2776274025</th>\n",
       "      <td>6590.0</td>\n",
       "      <td>NaN</td>\n",
       "    </tr>\n",
       "    <tr>\n",
       "      <th>2837914161</th>\n",
       "      <td>NaN</td>\n",
       "      <td>33405.0</td>\n",
       "    </tr>\n",
       "    <tr>\n",
       "      <th>2912540959</th>\n",
       "      <td>43990.0</td>\n",
       "      <td>NaN</td>\n",
       "    </tr>\n",
       "    <tr>\n",
       "      <th>2971471657</th>\n",
       "      <td>380.0</td>\n",
       "      <td>NaN</td>\n",
       "    </tr>\n",
       "    <tr>\n",
       "      <th>3017378493</th>\n",
       "      <td>3190.0</td>\n",
       "      <td>NaN</td>\n",
       "    </tr>\n",
       "    <tr>\n",
       "      <th>3118528100</th>\n",
       "      <td>1090.0</td>\n",
       "      <td>NaN</td>\n",
       "    </tr>\n",
       "    <tr>\n",
       "      <th>3212572194</th>\n",
       "      <td>1650.0</td>\n",
       "      <td>NaN</td>\n",
       "    </tr>\n",
       "    <tr>\n",
       "      <th>3282099314</th>\n",
       "      <td>11985.0</td>\n",
       "      <td>NaN</td>\n",
       "    </tr>\n",
       "    <tr>\n",
       "      <th>3511496907</th>\n",
       "      <td>1900.0</td>\n",
       "      <td>NaN</td>\n",
       "    </tr>\n",
       "    <tr>\n",
       "      <th>3528043184</th>\n",
       "      <td>9490.0</td>\n",
       "      <td>NaN</td>\n",
       "    </tr>\n",
       "    <tr>\n",
       "      <th>3819243527</th>\n",
       "      <td>9232.0</td>\n",
       "      <td>NaN</td>\n",
       "    </tr>\n",
       "    <tr>\n",
       "      <th>3860669668</th>\n",
       "      <td>NaN</td>\n",
       "      <td>3990.0</td>\n",
       "    </tr>\n",
       "    <tr>\n",
       "      <th>4017075195</th>\n",
       "      <td>13390.0</td>\n",
       "      <td>NaN</td>\n",
       "    </tr>\n",
       "    <tr>\n",
       "      <th>4079050915</th>\n",
       "      <td>4930.0</td>\n",
       "      <td>NaN</td>\n",
       "    </tr>\n",
       "    <tr>\n",
       "      <th>4251115836</th>\n",
       "      <td>NaN</td>\n",
       "      <td>2500.0</td>\n",
       "    </tr>\n",
       "  </tbody>\n",
       "</table>\n",
       "</div>"
      ],
      "text/plain": [
       "group             A          B\n",
       "visitorId                     \n",
       "154576532       NaN    26550.0\n",
       "157579733       NaN     2330.0\n",
       "290022471       NaN    16480.0\n",
       "393266494   21550.0        NaN\n",
       "492739583     750.0        NaN\n",
       "517094627     390.0        NaN\n",
       "522292794       NaN     4880.0\n",
       "990904712       NaN    11249.0\n",
       "1060341621      NaN     1100.0\n",
       "1335154194      NaN      500.0\n",
       "1349865791   2490.0        NaN\n",
       "1357170471  31680.0        NaN\n",
       "1772171838   1590.0        NaN\n",
       "1920142716      NaN  1294500.0\n",
       "1957949546  16770.0        NaN\n",
       "2075769885      NaN     3525.0\n",
       "2091902649      NaN      250.0\n",
       "2247745159      NaN     1435.0\n",
       "2358787737   2526.0        NaN\n",
       "2397843657      NaN     4090.0\n",
       "2406916810      NaN      470.0\n",
       "2536252163      NaN    20026.0\n",
       "2629148010   2690.0        NaN\n",
       "2738601405      NaN       50.0\n",
       "2744017357   1490.0        NaN\n",
       "2758621772      NaN     1130.0\n",
       "2763027084      NaN     1460.0\n",
       "2776274025   6590.0        NaN\n",
       "2837914161      NaN    33405.0\n",
       "2912540959  43990.0        NaN\n",
       "2971471657    380.0        NaN\n",
       "3017378493   3190.0        NaN\n",
       "3118528100   1090.0        NaN\n",
       "3212572194   1650.0        NaN\n",
       "3282099314  11985.0        NaN\n",
       "3511496907   1900.0        NaN\n",
       "3528043184   9490.0        NaN\n",
       "3819243527   9232.0        NaN\n",
       "3860669668      NaN     3990.0\n",
       "4017075195  13390.0        NaN\n",
       "4079050915   4930.0        NaN\n",
       "4251115836      NaN     2500.0"
      ]
     },
     "execution_count": 13,
     "metadata": {},
     "output_type": "execute_result"
    }
   ],
   "source": [
    "#проверила на крупные покупки 19 августа\n",
    "(\n",
    "    orders.query('date == \"2019-08-19\"')\n",
    "    .pivot_table(index='visitorId', columns='group', values='revenue', aggfunc='sum')\n",
    ")"
   ]
  },
  {
   "cell_type": "code",
   "execution_count": 14,
   "metadata": {},
   "outputs": [
    {
     "data": {
      "image/png": "[encoded data removed]",
      "text/plain": [
       "<Figure size 1080x720 with 1 Axes>"
      ]
     },
     "metadata": {},
     "output_type": "display_data"
    }
   ],
   "source": [
    "#построила график кумулятивного среднего чека по группам\n",
    "OrdersACummulative['avg_checkA'] = round(OrdersACummulative['revenueCummulativeA']/OrdersACummulative['transactionCummulativeA'], 2)\n",
    "OrdersBCummulative['avg_checkB'] = round(OrdersBCummulative['revenueCummulativeB']/OrdersBCummulative['transactionCummulativeB'], 2)\n",
    "\n",
    "plt.plot(OrdersACummulative['date'], OrdersACummulative['avg_checkA'], label='A')\n",
    "plt.plot(OrdersBCummulative['date'], OrdersBCummulative['avg_checkB'], label='B')\n",
    "plt.title('Кумулятивный средний чек по группам')\n",
    "plt.ylabel('Кумулятивный средний чек')\n",
    "plt.legend()\n",
    "plt.show()"
   ]
  },
  {
   "cell_type": "markdown",
   "metadata": {},
   "source": [
    "**Вывод: До 17 числа тенденция по группам в принципе не отличалась, 19 чила резкий скачек среднего чека для группы В, но мы уже знаем почему**"
   ]
  },
  {
   "cell_type": "code",
   "execution_count": 15,
   "metadata": {},
   "outputs": [
    {
     "data": {
      "image/png": "[encoded data removed]",
      "text/plain": [
       "<Figure size 1080x720 with 1 Axes>"
      ]
     },
     "metadata": {},
     "output_type": "display_data"
    }
   ],
   "source": [
    "#постройте график относительного изменения кумулятивного среднего чека группы B к группе A\n",
    "mergedCumulativeСheck = (\n",
    "    OrdersACummulative[['date', 'avg_checkA']]\n",
    "    .merge(OrdersBCummulative[['date', 'avg_checkB']], left_on='date', right_on='date', how='left')\n",
    ")\n",
    "\n",
    "plt.plot(mergedCumulativeСheck['date'], \n",
    "          mergedCumulativeСheck['avg_checkB']/mergedCumulativeСheck['avg_checkA'] - 1)\n",
    "plt.title('Относительные изменения кумулятивного среднего чека группы B к группе A')\n",
    "plt.ylabel('Относительное изменение')\n",
    "plt.axhline(y=0, color='black', linestyle='--')\n",
    "plt.axhline(y=0.25, color='grey', linestyle='--')\n",
    "plt.show()"
   ]
  },
  {
   "cell_type": "markdown",
   "metadata": {},
   "source": [
    "**Вывод: Почти с самого начала лидирует группа B по среднему чеку, хотя было такое, что и проваливалась, в конце теста группа B показала максимальный прирост около 50% относительно группы А и зафиксировалась в точке 25% прироста, что же будет после исключения выбросов**"
   ]
  },
  {
   "cell_type": "code",
   "execution_count": 16,
   "metadata": {},
   "outputs": [
    {
     "data": {
      "image/png": "[encoded data removed]",
      "text/plain": [
       "<Figure size 1080x720 with 1 Axes>"
      ]
     },
     "metadata": {},
     "output_type": "display_data"
    }
   ],
   "source": [
    "#построила график кумулятивной конверсии по группам\n",
    "datesGroups = orders[['date', 'group']].drop_duplicates()\n",
    "\n",
    "ordersAggregated = datesGroups.apply(\n",
    "    lambda x: orders[\n",
    "        np.logical_and(\n",
    "            orders['date'] <= x['date'], orders['group'] == x['group']\n",
    "        )\n",
    "    ].agg(\n",
    "        {\n",
    "            'date': 'max',\n",
    "            'group': 'max',\n",
    "            'transactionId': 'nunique',\n",
    "            'visitorId': 'nunique',\n",
    "            'revenue': 'sum',\n",
    "        }\n",
    "    ),\n",
    "    axis=1,\n",
    ").sort_values(by=['date', 'group'])\n",
    "\n",
    "visitorsAggregated = datesGroups.apply(\n",
    "    lambda x: visitors[\n",
    "        np.logical_and(\n",
    "            visitors['date'] <= x['date'], visitors['group'] == x['group']\n",
    "        )\n",
    "    ].agg({'date': 'max', 'group': 'max', 'visitors': 'sum'}),\n",
    "    axis=1,\n",
    ").sort_values(by=['date', 'group'])\n",
    "\n",
    "cumulativeData = ordersAggregated.merge(\n",
    "    visitorsAggregated, left_on=['date', 'group'], right_on=['date', 'group']\n",
    ")\n",
    "mergedCumulativeСonversions = visitorsAggregated.merge(ordersAggregated, left_on=['date', 'group'], right_on=['date', 'group'])\n",
    "\n",
    "mergedCumulativeСonversions['conversion'] = round(mergedCumulativeСonversions['transactionId']/mergedCumulativeСonversions['visitors'] * 100, 2)\n",
    "\n",
    "mergedCumulativeСonversionsA = mergedCumulativeСonversions[mergedCumulativeСonversions['group']=='A']\n",
    "mergedCumulativeСonversionsB = mergedCumulativeСonversions[mergedCumulativeСonversions['group']=='B']\n",
    "\n",
    "plt.plot(mergedCumulativeСonversionsA['date'], mergedCumulativeСonversionsA['conversion'], label='A')\n",
    "plt.plot(mergedCumulativeСonversionsB['date'], mergedCumulativeСonversionsB['conversion'], label='B')\n",
    "plt.title('Кумулятивная конверсия по группам')\n",
    "plt.ylabel('Конверсия в заказы от просмотров')\n",
    "plt.legend()\n",
    "plt.show()"
   ]
  },
  {
   "cell_type": "code",
   "execution_count": 17,
   "metadata": {},
   "outputs": [
    {
     "data": {
      "text/html": [
       "<div>\n",
       "<style scoped>\n",
       "    .dataframe tbody tr th:only-of-type {\n",
       "        vertical-align: middle;\n",
       "    }\n",
       "\n",
       "    .dataframe tbody tr th {\n",
       "        vertical-align: top;\n",
       "    }\n",
       "\n",
       "    .dataframe thead th {\n",
       "        text-align: right;\n",
       "    }\n",
       "</style>\n",
       "<table border=\"1\" class=\"dataframe\">\n",
       "  <thead>\n",
       "    <tr style=\"text-align: right;\">\n",
       "      <th></th>\n",
       "      <th>visitors</th>\n",
       "      <th>transactionId</th>\n",
       "      <th>visitorId</th>\n",
       "      <th>revenue</th>\n",
       "      <th>conversion</th>\n",
       "    </tr>\n",
       "  </thead>\n",
       "  <tbody>\n",
       "    <tr>\n",
       "      <th>count</th>\n",
       "      <td>31.000000</td>\n",
       "      <td>31.000000</td>\n",
       "      <td>31.000000</td>\n",
       "      <td>3.100000e+01</td>\n",
       "      <td>31.000000</td>\n",
       "    </tr>\n",
       "    <tr>\n",
       "      <th>mean</th>\n",
       "      <td>9860.419355</td>\n",
       "      <td>297.709677</td>\n",
       "      <td>270.354839</td>\n",
       "      <td>2.024356e+06</td>\n",
       "      <td>3.073226</td>\n",
       "    </tr>\n",
       "    <tr>\n",
       "      <th>std</th>\n",
       "      <td>5389.775529</td>\n",
       "      <td>160.361091</td>\n",
       "      <td>145.409892</td>\n",
       "      <td>1.209241e+06</td>\n",
       "      <td>0.160528</td>\n",
       "    </tr>\n",
       "    <tr>\n",
       "      <th>min</th>\n",
       "      <td>719.000000</td>\n",
       "      <td>24.000000</td>\n",
       "      <td>20.000000</td>\n",
       "      <td>1.485790e+05</td>\n",
       "      <td>2.920000</td>\n",
       "    </tr>\n",
       "    <tr>\n",
       "      <th>25%</th>\n",
       "      <td>5547.500000</td>\n",
       "      <td>169.000000</td>\n",
       "      <td>152.500000</td>\n",
       "      <td>9.313500e+05</td>\n",
       "      <td>2.975000</td>\n",
       "    </tr>\n",
       "    <tr>\n",
       "      <th>50%</th>\n",
       "      <td>10047.000000</td>\n",
       "      <td>301.000000</td>\n",
       "      <td>277.000000</td>\n",
       "      <td>2.078908e+06</td>\n",
       "      <td>3.020000</td>\n",
       "    </tr>\n",
       "    <tr>\n",
       "      <th>75%</th>\n",
       "      <td>14124.500000</td>\n",
       "      <td>433.500000</td>\n",
       "      <td>392.500000</td>\n",
       "      <td>2.938218e+06</td>\n",
       "      <td>3.080000</td>\n",
       "    </tr>\n",
       "    <tr>\n",
       "      <th>max</th>\n",
       "      <td>18736.000000</td>\n",
       "      <td>557.000000</td>\n",
       "      <td>503.000000</td>\n",
       "      <td>4.084803e+06</td>\n",
       "      <td>3.690000</td>\n",
       "    </tr>\n",
       "  </tbody>\n",
       "</table>\n",
       "</div>"
      ],
      "text/plain": [
       "           visitors  transactionId   visitorId       revenue  conversion\n",
       "count     31.000000      31.000000   31.000000  3.100000e+01   31.000000\n",
       "mean    9860.419355     297.709677  270.354839  2.024356e+06    3.073226\n",
       "std     5389.775529     160.361091  145.409892  1.209241e+06    0.160528\n",
       "min      719.000000      24.000000   20.000000  1.485790e+05    2.920000\n",
       "25%     5547.500000     169.000000  152.500000  9.313500e+05    2.975000\n",
       "50%    10047.000000     301.000000  277.000000  2.078908e+06    3.020000\n",
       "75%    14124.500000     433.500000  392.500000  2.938218e+06    3.080000\n",
       "max    18736.000000     557.000000  503.000000  4.084803e+06    3.690000"
      ]
     },
     "execution_count": 17,
     "metadata": {},
     "output_type": "execute_result"
    }
   ],
   "source": [
    "#посчитала медианное значение конверсии группы А\n",
    "mergedCumulativeСonversionsA.describe()"
   ]
  },
  {
   "cell_type": "code",
   "execution_count": 18,
   "metadata": {},
   "outputs": [
    {
     "data": {
      "text/html": [
       "<div>\n",
       "<style scoped>\n",
       "    .dataframe tbody tr th:only-of-type {\n",
       "        vertical-align: middle;\n",
       "    }\n",
       "\n",
       "    .dataframe tbody tr th {\n",
       "        vertical-align: top;\n",
       "    }\n",
       "\n",
       "    .dataframe thead th {\n",
       "        text-align: right;\n",
       "    }\n",
       "</style>\n",
       "<table border=\"1\" class=\"dataframe\">\n",
       "  <thead>\n",
       "    <tr style=\"text-align: right;\">\n",
       "      <th></th>\n",
       "      <th>visitors</th>\n",
       "      <th>transactionId</th>\n",
       "      <th>visitorId</th>\n",
       "      <th>revenue</th>\n",
       "      <th>conversion</th>\n",
       "    </tr>\n",
       "  </thead>\n",
       "  <tbody>\n",
       "    <tr>\n",
       "      <th>count</th>\n",
       "      <td>31.000000</td>\n",
       "      <td>31.000000</td>\n",
       "      <td>31.000000</td>\n",
       "      <td>3.100000e+01</td>\n",
       "      <td>31.000000</td>\n",
       "    </tr>\n",
       "    <tr>\n",
       "      <th>mean</th>\n",
       "      <td>9906.193548</td>\n",
       "      <td>337.612903</td>\n",
       "      <td>313.451613</td>\n",
       "      <td>2.904626e+06</td>\n",
       "      <td>3.385484</td>\n",
       "    </tr>\n",
       "    <tr>\n",
       "      <th>std</th>\n",
       "      <td>5455.340084</td>\n",
       "      <td>184.922809</td>\n",
       "      <td>168.328417</td>\n",
       "      <td>1.932482e+06</td>\n",
       "      <td>0.146375</td>\n",
       "    </tr>\n",
       "    <tr>\n",
       "      <th>min</th>\n",
       "      <td>713.000000</td>\n",
       "      <td>21.000000</td>\n",
       "      <td>20.000000</td>\n",
       "      <td>1.012170e+05</td>\n",
       "      <td>2.950000</td>\n",
       "    </tr>\n",
       "    <tr>\n",
       "      <th>25%</th>\n",
       "      <td>5603.000000</td>\n",
       "      <td>192.500000</td>\n",
       "      <td>182.000000</td>\n",
       "      <td>1.350995e+06</td>\n",
       "      <td>3.360000</td>\n",
       "    </tr>\n",
       "    <tr>\n",
       "      <th>50%</th>\n",
       "      <td>10013.000000</td>\n",
       "      <td>359.000000</td>\n",
       "      <td>336.000000</td>\n",
       "      <td>2.539635e+06</td>\n",
       "      <td>3.400000</td>\n",
       "    </tr>\n",
       "    <tr>\n",
       "      <th>75%</th>\n",
       "      <td>14259.000000</td>\n",
       "      <td>485.000000</td>\n",
       "      <td>447.000000</td>\n",
       "      <td>4.750969e+06</td>\n",
       "      <td>3.460000</td>\n",
       "    </tr>\n",
       "    <tr>\n",
       "      <th>max</th>\n",
       "      <td>18916.000000</td>\n",
       "      <td>640.000000</td>\n",
       "      <td>586.000000</td>\n",
       "      <td>5.907760e+06</td>\n",
       "      <td>3.630000</td>\n",
       "    </tr>\n",
       "  </tbody>\n",
       "</table>\n",
       "</div>"
      ],
      "text/plain": [
       "           visitors  transactionId   visitorId       revenue  conversion\n",
       "count     31.000000      31.000000   31.000000  3.100000e+01   31.000000\n",
       "mean    9906.193548     337.612903  313.451613  2.904626e+06    3.385484\n",
       "std     5455.340084     184.922809  168.328417  1.932482e+06    0.146375\n",
       "min      713.000000      21.000000   20.000000  1.012170e+05    2.950000\n",
       "25%     5603.000000     192.500000  182.000000  1.350995e+06    3.360000\n",
       "50%    10013.000000     359.000000  336.000000  2.539635e+06    3.400000\n",
       "75%    14259.000000     485.000000  447.000000  4.750969e+06    3.460000\n",
       "max    18916.000000     640.000000  586.000000  5.907760e+06    3.630000"
      ]
     },
     "execution_count": 18,
     "metadata": {},
     "output_type": "execute_result"
    }
   ],
   "source": [
    "#посчитала медианное значение конверсии группы В\n",
    "mergedCumulativeСonversionsB.describe()"
   ]
  },
  {
   "cell_type": "markdown",
   "metadata": {},
   "source": [
    "**Вывод: конверсия в заказы от просмотров у группы В выше (около 3,4%), чем у группы А (около 3.0%)**"
   ]
  },
  {
   "cell_type": "code",
   "execution_count": 19,
   "metadata": {},
   "outputs": [
    {
     "data": {
      "image/png": "[encoded data removed]",
      "text/plain": [
       "<Figure size 1080x720 with 1 Axes>"
      ]
     },
     "metadata": {},
     "output_type": "display_data"
    }
   ],
   "source": [
    "#построила график относительного изменения кумулятивной конверсии группы В к группе А\n",
    "mergedCumulativeСonver = (\n",
    "    mergedCumulativeСonversionsA[['date', 'conversion']]\n",
    "    .merge(mergedCumulativeСonversionsB[['date', 'conversion']], left_on='date', right_on='date', how='left', suffixes=['A','B'])\n",
    ")\n",
    "\n",
    "plt.plot(mergedCumulativeСonver['date'], \n",
    "          mergedCumulativeСonver['conversionB']/mergedCumulativeСonver['conversionA']- 1)\n",
    "plt.title('Относительные изменения кумулятивной конверсии группы B к группе A')\n",
    "plt.ylabel('Относительное изменение')\n",
    "plt.axhline(y=0, color='black', linestyle='--')\n",
    "plt.axhline(y=0.15, color='grey', linestyle='--')\n",
    "plt.show()"
   ]
  },
  {
   "cell_type": "markdown",
   "metadata": {},
   "source": [
    "**Вывод: группа В относително группы А имеет прирост по конверсии в среднем на 15%**"
   ]
  },
  {
   "cell_type": "code",
   "execution_count": 20,
   "metadata": {},
   "outputs": [
    {
     "data": {
      "image/png": "[encoded data removed]",
      "text/plain": [
       "<Figure size 1080x720 with 1 Axes>"
      ]
     },
     "metadata": {},
     "output_type": "display_data"
    },
    {
     "data": {
      "text/plain": [
       "'95-й и 99-й перцентили количества заказов на пользователя:'"
      ]
     },
     "metadata": {},
     "output_type": "display_data"
    },
    {
     "data": {
      "text/plain": [
       "array([2., 4.])"
      ]
     },
     "metadata": {},
     "output_type": "display_data"
    }
   ],
   "source": [
    "#построила точечный график количества заказов по пользователям\n",
    "#посчитала 95-й и 99-й перцентили количества заказов на пользователя\n",
    "ordersUsers = (\n",
    "    orders.groupby('visitorId', as_index=False)\n",
    "    .agg(\n",
    "        {\n",
    "            'group':'max',\n",
    "            'transactionId': 'nunique',\n",
    "            'revenue':'sum'\n",
    "        }\n",
    "    )\n",
    ")\n",
    "\n",
    "x_values = pd.Series(range(0, len(ordersUsers['transactionId'])))\n",
    "plt.scatter(x_values, ordersUsers['transactionId'])\n",
    "plt.title('Количество заказов по пользователям')\n",
    "plt.show()\n",
    "\n",
    "display('95-й и 99-й перцентили количества заказов на пользователя:', np.percentile(ordersUsers['transactionId'],[95, 99]))"
   ]
  },
  {
   "cell_type": "code",
   "execution_count": 21,
   "metadata": {},
   "outputs": [
    {
     "data": {
      "image/png": "[encoded data removed]",
      "text/plain": [
       "<Figure size 1080x720 with 1 Axes>"
      ]
     },
     "metadata": {},
     "output_type": "display_data"
    },
    {
     "data": {
      "text/plain": [
       "'95-й и 99-й перцентили стоимости заказов:'"
      ]
     },
     "metadata": {},
     "output_type": "display_data"
    },
    {
     "data": {
      "text/plain": [
       "array([32899.5, 67750. ])"
      ]
     },
     "metadata": {},
     "output_type": "display_data"
    }
   ],
   "source": [
    "#построила точечный график стоимостей заказов\n",
    "#посчитала 95-й и 99-й перцентили стоимости заказов\n",
    "x_values = pd.Series(range(0, len(ordersUsers['revenue'])))\n",
    "plt.scatter(x_values, ordersUsers['revenue'])\n",
    "plt.title('Стоимость заказов')\n",
    "plt.show()\n",
    "\n",
    "display('95-й и 99-й перцентили стоимости заказов:', np.percentile(ordersUsers['revenue'],[95, 99]))"
   ]
  },
  {
   "cell_type": "code",
   "execution_count": 22,
   "metadata": {},
   "outputs": [
    {
     "data": {
      "image/png": "[encoded data removed]",
      "text/plain": [
       "<Figure size 1080x720 with 1 Axes>"
      ]
     },
     "metadata": {},
     "output_type": "display_data"
    }
   ],
   "source": [
    "#посчитала точечный график стоимостей заказов, ограничив значения по оси Y\n",
    "x_values = pd.Series(range(0, len(ordersUsers['revenue'])))\n",
    "plt.scatter(x_values, ordersUsers['revenue'])\n",
    "plt.ylim([0, 100000])\n",
    "plt.title('Стоимость заказов')\n",
    "plt.show()"
   ]
  },
  {
   "cell_type": "markdown",
   "metadata": {},
   "source": [
    "**Вывод: Всё, как предполагали: есть пользователи, у которых число заказов выбивается, а также есть немного дорогих заказов. По обоим метрикам исключаем значения с 99-й перцентили**"
   ]
  },
  {
   "cell_type": "markdown",
   "metadata": {},
   "source": [
    "**ПРОВЕРКА ГИПОТЕЗ**\n",
    "\n",
    "**Нулевая гипотеза: статистически значимых различий в метрике между группами нет\n",
    "Альтернативная гипотеза: статистически значимые различия в метрике между группами есть**"
   ]
  },
  {
   "cell_type": "code",
   "execution_count": 23,
   "metadata": {},
   "outputs": [
    {
     "data": {
      "text/plain": [
       "'p_value'"
      ]
     },
     "metadata": {},
     "output_type": "display_data"
    },
    {
     "data": {
      "text/plain": [
       "'0.017'"
      ]
     },
     "metadata": {},
     "output_type": "display_data"
    },
    {
     "data": {
      "text/plain": [
       "'Относительное изменение в средней конверсии группы В к группе А'"
      ]
     },
     "metadata": {},
     "output_type": "display_data"
    },
    {
     "data": {
      "text/plain": [
       "'0.138'"
      ]
     },
     "metadata": {},
     "output_type": "display_data"
    }
   ],
   "source": [
    "#посчитала статистическую значимость различий в конверсии между группами по «сырым» данным\n",
    "ordersByUsersA = (\n",
    "    orders[orders['group'] == 'A']\n",
    "    .groupby('visitorId', as_index=False)\n",
    "    .agg({'transactionId': pd.Series.nunique})\n",
    ")\n",
    "\n",
    "ordersByUsersB = (\n",
    "    orders[orders['group'] == 'B']\n",
    "    .groupby('visitorId', as_index=False)\n",
    "    .agg({'transactionId': pd.Series.nunique})\n",
    ")\n",
    "\n",
    "sampleA=pd.concat(\n",
    "    [\n",
    "        ordersByUsersA['transactionId'],\n",
    "        pd.Series(\n",
    "            0, \n",
    "            index=np.arange(visitors[visitors['group']=='A']['visitors'].sum() - len(ordersByUsersA['transactionId'])\n",
    "            ), \n",
    "            name='transactionId'\n",
    "        ),\n",
    "    ],\n",
    "    axis=0,\n",
    ")\n",
    "\n",
    "sampleB=pd.concat(\n",
    "    [\n",
    "        ordersByUsersB['transactionId'],\n",
    "        pd.Series(\n",
    "            0, \n",
    "            index=np.arange(visitors[visitors['group']=='B']['visitors'].sum() - len(ordersByUsersB['transactionId'])\n",
    "            ), \n",
    "            name='transactionId'\n",
    "        ),\n",
    "    ],\n",
    "    axis=0,\n",
    ")\n",
    "\n",
    "\n",
    "display('p_value', \"{0:.3f}\".format(stats.mannwhitneyu(sampleA, sampleB)[1]))\n",
    "display('Относительное изменение в средней конверсии группы В к группе А', \"{0:.3f}\".format(sampleB.mean() / sampleA.mean() - 1))\n"
   ]
  },
  {
   "cell_type": "code",
   "execution_count": 24,
   "metadata": {},
   "outputs": [
    {
     "data": {
      "text/html": [
       "<div>\n",
       "<style scoped>\n",
       "    .dataframe tbody tr th:only-of-type {\n",
       "        vertical-align: middle;\n",
       "    }\n",
       "\n",
       "    .dataframe tbody tr th {\n",
       "        vertical-align: top;\n",
       "    }\n",
       "\n",
       "    .dataframe thead th {\n",
       "        text-align: right;\n",
       "    }\n",
       "</style>\n",
       "<table border=\"1\" class=\"dataframe\">\n",
       "  <thead>\n",
       "    <tr style=\"text-align: right;\">\n",
       "      <th></th>\n",
       "      <th>visitorId</th>\n",
       "      <th>transactionId</th>\n",
       "    </tr>\n",
       "  </thead>\n",
       "  <tbody>\n",
       "    <tr>\n",
       "      <th>0</th>\n",
       "      <td>8300375</td>\n",
       "      <td>1</td>\n",
       "    </tr>\n",
       "    <tr>\n",
       "      <th>1</th>\n",
       "      <td>11685486</td>\n",
       "      <td>1</td>\n",
       "    </tr>\n",
       "    <tr>\n",
       "      <th>2</th>\n",
       "      <td>54447517</td>\n",
       "      <td>1</td>\n",
       "    </tr>\n",
       "    <tr>\n",
       "      <th>3</th>\n",
       "      <td>66685450</td>\n",
       "      <td>1</td>\n",
       "    </tr>\n",
       "    <tr>\n",
       "      <th>4</th>\n",
       "      <td>78758296</td>\n",
       "      <td>1</td>\n",
       "    </tr>\n",
       "    <tr>\n",
       "      <th>...</th>\n",
       "      <td>...</td>\n",
       "      <td>...</td>\n",
       "    </tr>\n",
       "    <tr>\n",
       "      <th>498</th>\n",
       "      <td>4243832526</td>\n",
       "      <td>1</td>\n",
       "    </tr>\n",
       "    <tr>\n",
       "      <th>499</th>\n",
       "      <td>4256040402</td>\n",
       "      <td>7</td>\n",
       "    </tr>\n",
       "    <tr>\n",
       "      <th>500</th>\n",
       "      <td>4259830713</td>\n",
       "      <td>1</td>\n",
       "    </tr>\n",
       "    <tr>\n",
       "      <th>501</th>\n",
       "      <td>4266935830</td>\n",
       "      <td>1</td>\n",
       "    </tr>\n",
       "    <tr>\n",
       "      <th>502</th>\n",
       "      <td>4278982564</td>\n",
       "      <td>1</td>\n",
       "    </tr>\n",
       "  </tbody>\n",
       "</table>\n",
       "<p>503 rows × 2 columns</p>\n",
       "</div>"
      ],
      "text/plain": [
       "      visitorId  transactionId\n",
       "0       8300375              1\n",
       "1      11685486              1\n",
       "2      54447517              1\n",
       "3      66685450              1\n",
       "4      78758296              1\n",
       "..          ...            ...\n",
       "498  4243832526              1\n",
       "499  4256040402              7\n",
       "500  4259830713              1\n",
       "501  4266935830              1\n",
       "502  4278982564              1\n",
       "\n",
       "[503 rows x 2 columns]"
      ]
     },
     "execution_count": 24,
     "metadata": {},
     "output_type": "execute_result"
    }
   ],
   "source": [
    "ordersByUsersA "
   ]
  },
  {
   "cell_type": "markdown",
   "metadata": {},
   "source": [
    "**Вывод: По «сырым» данным различия в конверсии между группами A и B есть.\n",
    "Первое число — p-value = 0.017 меньше 0.05. Значит, нулевую гипотезу о том, что статистически значимых различий в конверсии между группами нет, отвергаем. Относительный выигрыш группы B равен 13.8% — второе число в выводе**"
   ]
  },
  {
   "cell_type": "code",
   "execution_count": 25,
   "metadata": {},
   "outputs": [
    {
     "data": {
      "text/plain": [
       "'p_value'"
      ]
     },
     "metadata": {},
     "output_type": "display_data"
    },
    {
     "data": {
      "text/plain": [
       "'0.729'"
      ]
     },
     "metadata": {},
     "output_type": "display_data"
    },
    {
     "data": {
      "text/plain": [
       "'Относительное изменение в среднем чеке группы В к группе А'"
      ]
     },
     "metadata": {},
     "output_type": "display_data"
    },
    {
     "data": {
      "text/plain": [
       "'0.259'"
      ]
     },
     "metadata": {},
     "output_type": "display_data"
    }
   ],
   "source": [
    "#посчитала статистическую значимость различий в среднем чеке заказа между группами по «сырым» данным\n",
    "display('p_value','{0:.3f}'.format(stats.mannwhitneyu(orders[orders['group']=='A']['revenue'], orders[orders['group']=='B']['revenue'])[1]))\n",
    "display('Относительное изменение в среднем чеке группы В к группе А',\n",
    "        '{0:.3f}'.format(orders[orders['group']=='B']['revenue'].mean()/orders[orders['group']=='A']['revenue'].mean()-1)) "
   ]
  },
  {
   "cell_type": "markdown",
   "metadata": {},
   "source": [
    "**Вывод: По «сырым» данным различия в среднем чеке между группами A и B нет. Первое число — p-value = 0.72 больше 0.05. Значит, нулевую гипотезу о том, что статистически значимых различий в среднем чеке нет, не отвергаем. Относительный выигрыш группы B равен 25.9% — второе число в выводе**"
   ]
  },
  {
   "cell_type": "code",
   "execution_count": 26,
   "metadata": {},
   "outputs": [
    {
     "data": {
      "text/plain": [
       "11"
      ]
     },
     "execution_count": 26,
     "metadata": {},
     "output_type": "execute_result"
    }
   ],
   "source": [
    "#очистила данные\n",
    "usersWithManyOrders = pd.concat(\n",
    "    [\n",
    "        ordersByUsersA[ordersByUsersA['transactionId'] > np.percentile(ordersUsers['transactionId'], 99)]['visitorId'],\n",
    "        ordersByUsersB[ordersByUsersB['transactionId'] > np.percentile(ordersUsers['transactionId'], 99)]['visitorId'],\n",
    "    ],\n",
    "    axis=0,\n",
    ")\n",
    "usersWithExpensiveOrders = orders[orders['revenue'] > np.percentile(ordersUsers['revenue'], 99)]['visitorId']\n",
    "abnormalUsers = (\n",
    "    pd.concat([usersWithManyOrders, usersWithExpensiveOrders], axis=0)\n",
    "    .drop_duplicates()\n",
    "    .sort_values()\n",
    ")\n",
    "\n",
    "abnormalUsers.shape[0]"
   ]
  },
  {
   "cell_type": "markdown",
   "metadata": {},
   "source": [
    "**Вывод: 11 аномальных пользователей**"
   ]
  },
  {
   "cell_type": "code",
   "execution_count": 27,
   "metadata": {},
   "outputs": [
    {
     "data": {
      "text/plain": [
       "'p_value'"
      ]
     },
     "metadata": {},
     "output_type": "display_data"
    },
    {
     "data": {
      "text/plain": [
       "'0.017'"
      ]
     },
     "metadata": {},
     "output_type": "display_data"
    },
    {
     "data": {
      "text/plain": [
       "'Относительное изменение в средней конверсии группы В к группе А'"
      ]
     },
     "metadata": {},
     "output_type": "display_data"
    },
    {
     "data": {
      "text/plain": [
       "'0.149'"
      ]
     },
     "metadata": {},
     "output_type": "display_data"
    }
   ],
   "source": [
    "#посчитала статистическую значимость различий в конверсии между группами по «очищенным» данным\n",
    "sampleAFiltered=pd.concat(\n",
    "    [\n",
    "        ordersByUsersA[ \n",
    "            np.logical_not(ordersByUsersA['visitorId'].isin(abnormalUsers))\n",
    "        ]['transactionId'],\n",
    "        pd.Series(\n",
    "            0, \n",
    "            index=np.arange(visitors[visitors['group']=='A']['visitors'].sum() - len(ordersByUsersA['transactionId'])\n",
    "            ), \n",
    "            name='transactionId'\n",
    "        ),\n",
    "    ],\n",
    "    axis=0,\n",
    ")\n",
    "\n",
    "\n",
    "sampleBFiltered=pd.concat(\n",
    "    [\n",
    "        ordersByUsersB[ \n",
    "            np.logical_not(ordersByUsersB['visitorId'].isin(abnormalUsers))\n",
    "        ]['transactionId'],\n",
    "        pd.Series(\n",
    "            0, \n",
    "            index=np.arange(visitors[visitors['group']=='B']['visitors'].sum() - len(ordersByUsersB['transactionId'])\n",
    "            ), \n",
    "            name='transactionId'\n",
    "        ),\n",
    "    ],\n",
    "    axis=0,\n",
    ")\n",
    "\n",
    "display('p_value',\"{0:.3f}\".format(stats.mannwhitneyu(sampleAFiltered, sampleBFiltered)[1]))\n",
    "display('Относительное изменение в средней конверсии группы В к группе А',\"{0:.3f}\".format(sampleBFiltered.mean()/sampleAFiltered.mean() - 1))"
   ]
  },
  {
   "cell_type": "markdown",
   "metadata": {},
   "source": [
    "**По \"очищенным\" данным вывод не изменился, статистические различия есть, плюс конверсия группы B относительно А выросла и достигла значения 14,9%**"
   ]
  },
  {
   "cell_type": "code",
   "execution_count": 28,
   "metadata": {},
   "outputs": [
    {
     "data": {
      "text/plain": [
       "'p_value'"
      ]
     },
     "metadata": {},
     "output_type": "display_data"
    },
    {
     "data": {
      "text/plain": [
       "'0.945'"
      ]
     },
     "metadata": {},
     "output_type": "display_data"
    },
    {
     "data": {
      "text/plain": [
       "'Относительное изменение в среднем чеке группы В к группе А'"
      ]
     },
     "metadata": {},
     "output_type": "display_data"
    },
    {
     "data": {
      "text/plain": [
       "'-0.041'"
      ]
     },
     "metadata": {},
     "output_type": "display_data"
    }
   ],
   "source": [
    "#посчитала статистическую значимость различий в среднем чеке заказа между группами по «очищенным» данным\n",
    "display(\n",
    "    'p_value',\n",
    "    '{0:.3f}'.format(\n",
    "        stats.mannwhitneyu(\n",
    "            orders[\n",
    "                np.logical_and(\n",
    "                    orders['group'] == 'A',\n",
    "                    np.logical_not(orders['visitorId'].isin(abnormalUsers)),\n",
    "                )\n",
    "            ]['revenue'],\n",
    "            orders[\n",
    "                np.logical_and(\n",
    "                    orders['group'] == 'B',\n",
    "                    np.logical_not(orders['visitorId'].isin(abnormalUsers)),\n",
    "                )\n",
    "            ]['revenue'],\n",
    "        )[1]\n",
    "    )\n",
    ")\n",
    "display(\n",
    "    'Относительное изменение в среднем чеке группы В к группе А',\n",
    "    \"{0:.3f}\".format(\n",
    "        orders[\n",
    "            np.logical_and(\n",
    "                orders['group'] == 'B',\n",
    "                np.logical_not(orders['visitorId'].isin(abnormalUsers)),\n",
    "            )\n",
    "        ]['revenue'].mean()\n",
    "        / orders[\n",
    "            np.logical_and(\n",
    "                orders['group'] == 'A',\n",
    "                np.logical_not(orders['visitorId'].isin(abnormalUsers)),\n",
    "            )\n",
    "        ]['revenue'].mean()\n",
    "        - 1\n",
    "    )\n",
    ")"
   ]
  },
  {
   "cell_type": "markdown",
   "metadata": {},
   "source": [
    "**По \"очищенным\" данным вывод не изменился, статистических различий нет, плюс после того, как убрали аномальные значения - группа B оказалась в проигрыше на 4%**"
   ]
  },
  {
   "cell_type": "markdown",
   "metadata": {},
   "source": [
    "**Итоговый вывод: Остановить тест, зафиксировать победу группы B за счет конверсии, которая выше относительно группы А**\n",
    "\n",
    "**Факты:**\n",
    "1. Есть статистически значимые различия по конверсии между группами по «сырым» и по данным после фильтрации аномалий, группа В лучше на 14,9% по очищенным данным и в среднем конверсия составляет 3,4% (группа А - 3%)\n",
    "2. Нет статистически значимого различия по среднему чеку между группами ни по «сырым», ни по данным после фильтрации аномалий.\n",
    "При этом результат тестирования почти сравнялся (значение среднего чека) после исключения аномалий, в нашем случае чек на 1,3 млн и 140 тыс, которые только искажали картину и не несли ценности при тестировании"
   ]
  }
 ],
 "metadata": {
  "ExecuteTimeLog": [
   {
    "duration": 1331,
    "start_time": "2022-09-18T08:06:18.549Z"
   },
   {
    "duration": 162,
    "start_time": "2022-09-18T08:08:59.905Z"
   },
   {
    "duration": 87,
    "start_time": "2022-09-18T08:09:07.995Z"
   },
   {
    "duration": 26,
    "start_time": "2022-09-18T08:14:43.168Z"
   },
   {
    "duration": 34,
    "start_time": "2022-09-18T08:18:44.645Z"
   },
   {
    "duration": 887,
    "start_time": "2022-09-18T08:30:49.712Z"
   },
   {
    "duration": 344,
    "start_time": "2022-09-18T08:31:23.761Z"
   },
   {
    "duration": 13,
    "start_time": "2022-09-18T08:33:54.744Z"
   },
   {
    "duration": 8,
    "start_time": "2022-09-18T08:37:06.079Z"
   },
   {
    "duration": 30,
    "start_time": "2022-09-18T08:37:22.512Z"
   },
   {
    "duration": 19,
    "start_time": "2022-09-18T08:38:00.590Z"
   },
   {
    "duration": 11,
    "start_time": "2022-09-18T08:38:12.317Z"
   },
   {
    "duration": 13,
    "start_time": "2022-09-18T08:42:06.168Z"
   },
   {
    "duration": 16,
    "start_time": "2022-09-18T08:42:17.451Z"
   },
   {
    "duration": 7,
    "start_time": "2022-09-18T08:45:07.118Z"
   },
   {
    "duration": 20,
    "start_time": "2022-09-18T08:47:33.794Z"
   },
   {
    "duration": 19,
    "start_time": "2022-09-18T08:48:01.893Z"
   },
   {
    "duration": 12,
    "start_time": "2022-09-18T08:48:33.563Z"
   },
   {
    "duration": 112,
    "start_time": "2022-09-18T08:55:55.963Z"
   },
   {
    "duration": 21,
    "start_time": "2022-09-18T09:05:19.870Z"
   },
   {
    "duration": 25,
    "start_time": "2022-09-18T09:07:05.112Z"
   },
   {
    "duration": 10,
    "start_time": "2022-09-18T09:07:56.920Z"
   },
   {
    "duration": 12,
    "start_time": "2022-09-18T09:08:19.771Z"
   },
   {
    "duration": 5,
    "start_time": "2022-09-18T09:09:37.136Z"
   },
   {
    "duration": 13,
    "start_time": "2022-09-18T09:10:11.258Z"
   },
   {
    "duration": 1441,
    "start_time": "2022-09-21T04:35:16.101Z"
   },
   {
    "duration": 32,
    "start_time": "2022-09-21T04:35:17.544Z"
   },
   {
    "duration": 7,
    "start_time": "2022-09-21T04:35:18.513Z"
   },
   {
    "duration": 19,
    "start_time": "2022-09-21T04:35:19.020Z"
   },
   {
    "duration": 15,
    "start_time": "2022-09-21T04:35:19.406Z"
   },
   {
    "duration": 12,
    "start_time": "2022-09-21T04:35:19.744Z"
   },
   {
    "duration": 13,
    "start_time": "2022-09-21T04:35:35.370Z"
   },
   {
    "duration": 11,
    "start_time": "2022-09-21T04:35:36.032Z"
   },
   {
    "duration": 50,
    "start_time": "2022-09-21T04:42:31.897Z"
   },
   {
    "duration": 269,
    "start_time": "2022-09-21T04:42:57.732Z"
   },
   {
    "duration": 227,
    "start_time": "2022-09-21T04:44:13.746Z"
   },
   {
    "duration": 8,
    "start_time": "2022-09-21T04:48:48.392Z"
   },
   {
    "duration": 173,
    "start_time": "2022-09-21T04:48:52.598Z"
   },
   {
    "duration": 250,
    "start_time": "2022-09-21T04:49:08.387Z"
   },
   {
    "duration": 14,
    "start_time": "2022-09-21T04:51:19.972Z"
   },
   {
    "duration": 187,
    "start_time": "2022-09-21T04:51:23.371Z"
   },
   {
    "duration": 7,
    "start_time": "2022-09-21T04:56:35.998Z"
   },
   {
    "duration": 7,
    "start_time": "2022-09-21T04:56:39.353Z"
   },
   {
    "duration": 57,
    "start_time": "2022-09-21T05:10:11.911Z"
   },
   {
    "duration": 22,
    "start_time": "2022-09-21T05:10:23.124Z"
   },
   {
    "duration": 19,
    "start_time": "2022-09-21T05:16:09.905Z"
   },
   {
    "duration": 18,
    "start_time": "2022-09-21T05:16:27.432Z"
   },
   {
    "duration": 14,
    "start_time": "2022-09-21T05:16:55.746Z"
   },
   {
    "duration": 15,
    "start_time": "2022-09-21T05:17:29.270Z"
   },
   {
    "duration": 9,
    "start_time": "2022-09-21T05:18:15.472Z"
   },
   {
    "duration": 15,
    "start_time": "2022-09-21T05:18:27.569Z"
   },
   {
    "duration": 104,
    "start_time": "2022-09-21T05:24:51.310Z"
   },
   {
    "duration": 72,
    "start_time": "2022-09-21T05:25:13.428Z"
   },
   {
    "duration": 57,
    "start_time": "2022-09-21T05:26:35.900Z"
   },
   {
    "duration": 60,
    "start_time": "2022-09-21T05:26:45.450Z"
   },
   {
    "duration": 85,
    "start_time": "2022-09-21T05:26:56.364Z"
   },
   {
    "duration": 58,
    "start_time": "2022-09-21T05:27:11.931Z"
   },
   {
    "duration": 58,
    "start_time": "2022-09-21T05:27:24.977Z"
   },
   {
    "duration": 64,
    "start_time": "2022-09-21T05:30:46.093Z"
   },
   {
    "duration": 92,
    "start_time": "2022-09-21T05:30:59.863Z"
   },
   {
    "duration": 110,
    "start_time": "2022-09-21T05:31:09.721Z"
   },
   {
    "duration": 197,
    "start_time": "2022-09-21T05:32:44.461Z"
   },
   {
    "duration": 1119,
    "start_time": "2022-09-21T05:34:50.684Z"
   },
   {
    "duration": 1020,
    "start_time": "2022-09-21T05:36:56.336Z"
   },
   {
    "duration": 990,
    "start_time": "2022-09-21T05:37:03.793Z"
   },
   {
    "duration": 800,
    "start_time": "2022-09-21T05:38:12.821Z"
   },
   {
    "duration": 119,
    "start_time": "2022-09-21T05:43:12.106Z"
   },
   {
    "duration": 277,
    "start_time": "2022-09-21T05:43:39.698Z"
   },
   {
    "duration": 128,
    "start_time": "2022-09-21T05:45:08.615Z"
   },
   {
    "duration": 30,
    "start_time": "2022-09-21T05:45:11.290Z"
   },
   {
    "duration": 7,
    "start_time": "2022-09-21T05:45:11.710Z"
   },
   {
    "duration": 18,
    "start_time": "2022-09-21T05:45:11.935Z"
   },
   {
    "duration": 20,
    "start_time": "2022-09-21T05:45:12.158Z"
   },
   {
    "duration": 11,
    "start_time": "2022-09-21T05:45:12.372Z"
   },
   {
    "duration": 12,
    "start_time": "2022-09-21T05:45:13.026Z"
   },
   {
    "duration": 13,
    "start_time": "2022-09-21T05:45:13.262Z"
   },
   {
    "duration": 425,
    "start_time": "2022-09-21T05:45:14.161Z"
   },
   {
    "duration": 1551,
    "start_time": "2022-09-22T15:36:10.191Z"
   },
   {
    "duration": 33,
    "start_time": "2022-09-22T15:36:11.746Z"
   },
   {
    "duration": 7,
    "start_time": "2022-09-22T15:36:11.781Z"
   },
   {
    "duration": 28,
    "start_time": "2022-09-22T15:36:11.790Z"
   },
   {
    "duration": 45,
    "start_time": "2022-09-22T15:36:11.820Z"
   },
   {
    "duration": 11,
    "start_time": "2022-09-22T15:36:11.867Z"
   },
   {
    "duration": 18,
    "start_time": "2022-09-22T15:36:11.880Z"
   },
   {
    "duration": 18,
    "start_time": "2022-09-22T15:36:11.902Z"
   },
   {
    "duration": 492,
    "start_time": "2022-09-22T15:36:11.922Z"
   },
   {
    "duration": 8,
    "start_time": "2022-09-22T15:42:24.139Z"
   },
   {
    "duration": 9,
    "start_time": "2022-09-22T15:43:41.720Z"
   },
   {
    "duration": 10,
    "start_time": "2022-09-22T15:44:12.482Z"
   },
   {
    "duration": 4,
    "start_time": "2022-09-22T16:00:07.949Z"
   },
   {
    "duration": 11,
    "start_time": "2022-09-22T16:00:15.750Z"
   },
   {
    "duration": 13,
    "start_time": "2022-09-22T16:00:51.066Z"
   },
   {
    "duration": 14,
    "start_time": "2022-09-22T16:00:55.749Z"
   },
   {
    "duration": 4,
    "start_time": "2022-09-22T16:04:45.851Z"
   },
   {
    "duration": 3,
    "start_time": "2022-09-22T16:05:08.934Z"
   },
   {
    "duration": 10,
    "start_time": "2022-09-22T16:05:22.769Z"
   },
   {
    "duration": 8,
    "start_time": "2022-09-22T16:06:18.882Z"
   },
   {
    "duration": 286,
    "start_time": "2022-09-22T16:07:19.801Z"
   },
   {
    "duration": 8,
    "start_time": "2022-09-22T16:18:53.567Z"
   },
   {
    "duration": 18,
    "start_time": "2022-09-22T16:19:01.856Z"
   },
   {
    "duration": 71,
    "start_time": "2022-09-22T16:23:54.263Z"
   },
   {
    "duration": 51,
    "start_time": "2022-09-22T16:25:39.540Z"
   },
   {
    "duration": 587,
    "start_time": "2022-09-22T16:25:47.577Z"
   },
   {
    "duration": 430,
    "start_time": "2022-09-22T16:26:25.163Z"
   },
   {
    "duration": 426,
    "start_time": "2022-09-22T16:27:53.778Z"
   },
   {
    "duration": 411,
    "start_time": "2022-09-22T16:28:10.397Z"
   },
   {
    "duration": 372,
    "start_time": "2022-09-22T16:29:42.224Z"
   },
   {
    "duration": 399,
    "start_time": "2022-09-22T16:29:51.864Z"
   },
   {
    "duration": 11,
    "start_time": "2022-09-22T16:40:53.667Z"
   },
   {
    "duration": 10,
    "start_time": "2022-09-22T16:41:15.944Z"
   },
   {
    "duration": 97,
    "start_time": "2022-09-22T16:47:02.068Z"
   },
   {
    "duration": 76,
    "start_time": "2022-09-22T16:47:07.227Z"
   },
   {
    "duration": 26,
    "start_time": "2022-09-22T16:47:25.972Z"
   },
   {
    "duration": 27,
    "start_time": "2022-09-22T16:48:18.729Z"
   },
   {
    "duration": 30,
    "start_time": "2022-09-22T16:49:07.697Z"
   },
   {
    "duration": 10,
    "start_time": "2022-09-22T16:49:35.978Z"
   },
   {
    "duration": 20,
    "start_time": "2022-09-22T16:50:51.267Z"
   },
   {
    "duration": 17,
    "start_time": "2022-09-22T16:53:21.573Z"
   },
   {
    "duration": 120,
    "start_time": "2022-09-22T16:53:32.922Z"
   },
   {
    "duration": 17,
    "start_time": "2022-09-22T16:59:25.923Z"
   },
   {
    "duration": 29,
    "start_time": "2022-09-22T17:03:00.674Z"
   },
   {
    "duration": 26,
    "start_time": "2022-09-22T17:03:15.456Z"
   },
   {
    "duration": 37,
    "start_time": "2022-09-22T17:03:52.871Z"
   },
   {
    "duration": 295,
    "start_time": "2022-09-22T17:06:48.218Z"
   },
   {
    "duration": 314,
    "start_time": "2022-09-22T17:07:25.476Z"
   },
   {
    "duration": 1296,
    "start_time": "2022-09-22T17:08:19.268Z"
   },
   {
    "duration": 2098,
    "start_time": "2022-09-22T17:08:50.074Z"
   },
   {
    "duration": 31,
    "start_time": "2022-09-22T17:09:01.889Z"
   },
   {
    "duration": 33,
    "start_time": "2022-09-22T17:11:12.780Z"
   },
   {
    "duration": 328,
    "start_time": "2022-09-22T17:11:57.887Z"
   },
   {
    "duration": 9,
    "start_time": "2022-09-22T17:12:32.741Z"
   },
   {
    "duration": 31,
    "start_time": "2022-09-22T17:15:37.412Z"
   },
   {
    "duration": 28,
    "start_time": "2022-09-22T17:15:48.499Z"
   },
   {
    "duration": 1034,
    "start_time": "2022-09-22T17:16:00.112Z"
   },
   {
    "duration": 31,
    "start_time": "2022-09-22T17:16:58.645Z"
   },
   {
    "duration": 47,
    "start_time": "2022-09-22T17:17:14.573Z"
   },
   {
    "duration": 13,
    "start_time": "2022-09-22T17:18:33.784Z"
   },
   {
    "duration": 46,
    "start_time": "2022-09-22T17:19:10.309Z"
   },
   {
    "duration": 48,
    "start_time": "2022-09-22T17:22:02.330Z"
   },
   {
    "duration": 14,
    "start_time": "2022-09-22T17:22:08.146Z"
   },
   {
    "duration": 299,
    "start_time": "2022-09-22T17:24:59.153Z"
   },
   {
    "duration": 611,
    "start_time": "2022-09-22T17:25:16.057Z"
   },
   {
    "duration": 13,
    "start_time": "2022-09-22T17:25:33.770Z"
   },
   {
    "duration": 68,
    "start_time": "2022-09-22T17:32:54.168Z"
   },
   {
    "duration": 15,
    "start_time": "2022-09-22T17:33:09.941Z"
   },
   {
    "duration": 343,
    "start_time": "2022-09-22T17:34:17.749Z"
   },
   {
    "duration": 386,
    "start_time": "2022-09-22T17:34:28.974Z"
   },
   {
    "duration": 338,
    "start_time": "2022-09-22T17:34:44.958Z"
   },
   {
    "duration": 1601,
    "start_time": "2022-09-23T04:22:54.893Z"
   },
   {
    "duration": 36,
    "start_time": "2022-09-23T04:22:56.496Z"
   },
   {
    "duration": 7,
    "start_time": "2022-09-23T04:22:56.534Z"
   },
   {
    "duration": 26,
    "start_time": "2022-09-23T04:22:56.543Z"
   },
   {
    "duration": 17,
    "start_time": "2022-09-23T04:22:56.571Z"
   },
   {
    "duration": 11,
    "start_time": "2022-09-23T04:22:56.590Z"
   },
   {
    "duration": 16,
    "start_time": "2022-09-23T04:22:56.602Z"
   },
   {
    "duration": 46,
    "start_time": "2022-09-23T04:22:56.619Z"
   },
   {
    "duration": 12,
    "start_time": "2022-09-23T04:22:56.667Z"
   },
   {
    "duration": 514,
    "start_time": "2022-09-23T04:22:56.681Z"
   },
   {
    "duration": 335,
    "start_time": "2022-09-23T04:22:57.197Z"
   },
   {
    "duration": 472,
    "start_time": "2022-09-23T04:22:57.534Z"
   },
   {
    "duration": 606,
    "start_time": "2022-09-23T04:22:58.007Z"
   },
   {
    "duration": 420,
    "start_time": "2022-09-23T04:22:58.615Z"
   },
   {
    "duration": 3,
    "start_time": "2022-09-23T04:22:59.037Z"
   },
   {
    "duration": 12,
    "start_time": "2022-09-23T04:24:37.414Z"
   },
   {
    "duration": 99,
    "start_time": "2022-09-23T04:30:55.236Z"
   },
   {
    "duration": 90,
    "start_time": "2022-09-23T04:31:07.426Z"
   },
   {
    "duration": 88,
    "start_time": "2022-09-23T04:31:24.373Z"
   },
   {
    "duration": 89,
    "start_time": "2022-09-23T04:31:30.052Z"
   },
   {
    "duration": 86,
    "start_time": "2022-09-23T04:34:50.163Z"
   },
   {
    "duration": 85,
    "start_time": "2022-09-23T04:35:13.912Z"
   },
   {
    "duration": 85,
    "start_time": "2022-09-23T04:36:29.448Z"
   },
   {
    "duration": 92,
    "start_time": "2022-09-23T04:40:58.934Z"
   },
   {
    "duration": 290,
    "start_time": "2022-09-23T04:41:20.438Z"
   },
   {
    "duration": 14,
    "start_time": "2022-09-23T04:42:45.100Z"
   },
   {
    "duration": 250,
    "start_time": "2022-09-23T04:42:55.014Z"
   },
   {
    "duration": 11,
    "start_time": "2022-09-23T04:43:04.161Z"
   },
   {
    "duration": 290,
    "start_time": "2022-09-23T04:43:22.867Z"
   },
   {
    "duration": 393,
    "start_time": "2022-09-23T04:44:16.840Z"
   },
   {
    "duration": 279,
    "start_time": "2022-09-23T04:44:37.252Z"
   },
   {
    "duration": 199,
    "start_time": "2022-09-23T04:44:47.851Z"
   },
   {
    "duration": 863,
    "start_time": "2022-09-23T04:50:28.763Z"
   },
   {
    "duration": 323,
    "start_time": "2022-09-23T04:51:00.795Z"
   },
   {
    "duration": 5,
    "start_time": "2022-09-23T04:51:21.323Z"
   },
   {
    "duration": 265,
    "start_time": "2022-09-23T04:52:55.885Z"
   },
   {
    "duration": 195,
    "start_time": "2022-09-23T04:55:49.209Z"
   },
   {
    "duration": 204,
    "start_time": "2022-09-23T04:56:05.310Z"
   },
   {
    "duration": 13,
    "start_time": "2022-09-23T05:08:16.989Z"
   },
   {
    "duration": 139,
    "start_time": "2022-09-23T05:31:43.069Z"
   },
   {
    "duration": 153,
    "start_time": "2022-09-23T05:32:44.109Z"
   },
   {
    "duration": 1582,
    "start_time": "2022-09-24T10:54:30.477Z"
   },
   {
    "duration": 47,
    "start_time": "2022-09-24T10:54:32.061Z"
   },
   {
    "duration": 9,
    "start_time": "2022-09-24T10:54:32.110Z"
   },
   {
    "duration": 45,
    "start_time": "2022-09-24T10:54:32.121Z"
   },
   {
    "duration": 25,
    "start_time": "2022-09-24T10:54:32.167Z"
   },
   {
    "duration": 14,
    "start_time": "2022-09-24T10:54:32.193Z"
   },
   {
    "duration": 16,
    "start_time": "2022-09-24T10:54:32.209Z"
   },
   {
    "duration": 39,
    "start_time": "2022-09-24T10:54:32.227Z"
   },
   {
    "duration": 13,
    "start_time": "2022-09-24T10:54:32.267Z"
   },
   {
    "duration": 519,
    "start_time": "2022-09-24T10:54:32.282Z"
   },
   {
    "duration": 321,
    "start_time": "2022-09-24T10:54:32.802Z"
   },
   {
    "duration": 481,
    "start_time": "2022-09-24T10:54:33.125Z"
   },
   {
    "duration": 657,
    "start_time": "2022-09-24T10:54:33.608Z"
   },
   {
    "duration": 407,
    "start_time": "2022-09-24T10:54:34.267Z"
   },
   {
    "duration": 289,
    "start_time": "2022-09-24T10:54:34.676Z"
   },
   {
    "duration": 219,
    "start_time": "2022-09-24T10:54:34.966Z"
   },
   {
    "duration": 173,
    "start_time": "2022-09-24T10:54:35.186Z"
   },
   {
    "duration": 149,
    "start_time": "2022-09-24T11:11:02.720Z"
   },
   {
    "duration": 161,
    "start_time": "2022-09-24T11:12:13.305Z"
   },
   {
    "duration": 12,
    "start_time": "2022-09-24T11:31:02.511Z"
   },
   {
    "duration": 98,
    "start_time": "2022-09-24T11:47:45.054Z"
   },
   {
    "duration": 868,
    "start_time": "2022-09-24T11:47:54.042Z"
   },
   {
    "duration": 9,
    "start_time": "2022-09-24T11:48:34.414Z"
   },
   {
    "duration": 10,
    "start_time": "2022-09-24T11:49:25.881Z"
   },
   {
    "duration": 11,
    "start_time": "2022-09-24T11:53:31.835Z"
   },
   {
    "duration": 12,
    "start_time": "2022-09-24T11:54:32.165Z"
   },
   {
    "duration": 20,
    "start_time": "2022-09-24T11:55:17.355Z"
   },
   {
    "duration": 15,
    "start_time": "2022-09-24T11:55:23.494Z"
   },
   {
    "duration": 10,
    "start_time": "2022-09-24T11:55:38.154Z"
   },
   {
    "duration": 7,
    "start_time": "2022-09-24T11:57:57.451Z"
   },
   {
    "duration": 9,
    "start_time": "2022-09-24T11:58:55.858Z"
   },
   {
    "duration": 28,
    "start_time": "2022-09-24T11:59:49.512Z"
   },
   {
    "duration": 17,
    "start_time": "2022-09-24T12:07:49.840Z"
   },
   {
    "duration": 19,
    "start_time": "2022-09-24T12:08:32.732Z"
   },
   {
    "duration": 294,
    "start_time": "2022-09-24T12:25:02.672Z"
   },
   {
    "duration": 6,
    "start_time": "2022-09-24T12:26:32.019Z"
   },
   {
    "duration": 5,
    "start_time": "2022-09-24T12:28:11.966Z"
   },
   {
    "duration": 486,
    "start_time": "2022-09-24T12:38:08.553Z"
   },
   {
    "duration": 435,
    "start_time": "2022-09-24T12:41:00.800Z"
   },
   {
    "duration": 446,
    "start_time": "2022-09-24T12:41:07.856Z"
   },
   {
    "duration": 331,
    "start_time": "2022-09-24T12:42:12.396Z"
   },
   {
    "duration": 491,
    "start_time": "2022-09-24T12:43:29.817Z"
   },
   {
    "duration": 649,
    "start_time": "2022-09-24T12:45:16.366Z"
   },
   {
    "duration": 387,
    "start_time": "2022-09-24T12:46:12.095Z"
   },
   {
    "duration": 301,
    "start_time": "2022-09-24T12:47:03.244Z"
   },
   {
    "duration": 219,
    "start_time": "2022-09-24T12:47:37.966Z"
   },
   {
    "duration": 1214,
    "start_time": "2022-09-24T12:47:56.778Z"
   },
   {
    "duration": 31,
    "start_time": "2022-09-24T12:47:57.994Z"
   },
   {
    "duration": 6,
    "start_time": "2022-09-24T12:47:58.029Z"
   },
   {
    "duration": 28,
    "start_time": "2022-09-24T12:47:58.037Z"
   },
   {
    "duration": 22,
    "start_time": "2022-09-24T12:47:58.067Z"
   },
   {
    "duration": 12,
    "start_time": "2022-09-24T12:47:58.090Z"
   },
   {
    "duration": 11,
    "start_time": "2022-09-24T12:47:58.103Z"
   },
   {
    "duration": 11,
    "start_time": "2022-09-24T12:47:58.116Z"
   },
   {
    "duration": 38,
    "start_time": "2022-09-24T12:47:58.129Z"
   },
   {
    "duration": 517,
    "start_time": "2022-09-24T12:47:58.169Z"
   },
   {
    "duration": 334,
    "start_time": "2022-09-24T12:47:58.688Z"
   },
   {
    "duration": 455,
    "start_time": "2022-09-24T12:47:59.024Z"
   },
   {
    "duration": 628,
    "start_time": "2022-09-24T12:47:59.481Z"
   },
   {
    "duration": 420,
    "start_time": "2022-09-24T12:48:00.111Z"
   },
   {
    "duration": 303,
    "start_time": "2022-09-24T12:48:00.532Z"
   },
   {
    "duration": 237,
    "start_time": "2022-09-24T12:48:00.837Z"
   },
   {
    "duration": 200,
    "start_time": "2022-09-24T12:48:01.077Z"
   },
   {
    "duration": 14,
    "start_time": "2022-09-24T12:48:01.279Z"
   },
   {
    "duration": 53,
    "start_time": "2022-09-24T12:48:01.295Z"
   },
   {
    "duration": 49,
    "start_time": "2022-09-24T12:48:01.350Z"
   },
   {
    "duration": 33,
    "start_time": "2022-09-24T12:48:01.401Z"
   },
   {
    "duration": 1196,
    "start_time": "2022-09-24T13:26:30.629Z"
   },
   {
    "duration": 34,
    "start_time": "2022-09-24T13:26:31.827Z"
   },
   {
    "duration": 9,
    "start_time": "2022-09-24T13:26:31.863Z"
   },
   {
    "duration": 23,
    "start_time": "2022-09-24T13:26:31.875Z"
   },
   {
    "duration": 38,
    "start_time": "2022-09-24T13:26:31.899Z"
   },
   {
    "duration": 11,
    "start_time": "2022-09-24T13:26:31.939Z"
   },
   {
    "duration": 21,
    "start_time": "2022-09-24T13:26:31.951Z"
   },
   {
    "duration": 11,
    "start_time": "2022-09-24T13:26:31.973Z"
   },
   {
    "duration": 11,
    "start_time": "2022-09-24T13:26:31.986Z"
   },
   {
    "duration": 527,
    "start_time": "2022-09-24T13:26:32.000Z"
   },
   {
    "duration": 296,
    "start_time": "2022-09-24T13:26:32.533Z"
   },
   {
    "duration": 452,
    "start_time": "2022-09-24T13:26:32.831Z"
   },
   {
    "duration": 579,
    "start_time": "2022-09-24T13:26:33.284Z"
   },
   {
    "duration": 401,
    "start_time": "2022-09-24T13:26:33.865Z"
   },
   {
    "duration": 259,
    "start_time": "2022-09-24T13:26:34.268Z"
   },
   {
    "duration": 199,
    "start_time": "2022-09-24T13:26:34.528Z"
   },
   {
    "duration": 172,
    "start_time": "2022-09-24T13:26:34.729Z"
   },
   {
    "duration": 10,
    "start_time": "2022-09-24T13:26:34.903Z"
   },
   {
    "duration": 27,
    "start_time": "2022-09-24T13:26:34.914Z"
   },
   {
    "duration": 42,
    "start_time": "2022-09-24T13:26:34.944Z"
   },
   {
    "duration": 14,
    "start_time": "2022-09-24T13:26:34.988Z"
   },
   {
    "duration": 158,
    "start_time": "2022-09-24T13:53:22.888Z"
   },
   {
    "duration": 153,
    "start_time": "2022-09-24T13:54:39.757Z"
   },
   {
    "duration": 67,
    "start_time": "2022-09-24T13:55:34.121Z"
   },
   {
    "duration": 149,
    "start_time": "2022-09-24T13:55:55.354Z"
   },
   {
    "duration": 140,
    "start_time": "2022-09-24T13:56:18.916Z"
   },
   {
    "duration": 9,
    "start_time": "2022-09-24T13:57:24.346Z"
   },
   {
    "duration": 5,
    "start_time": "2022-09-24T14:00:21.017Z"
   },
   {
    "duration": 8,
    "start_time": "2022-09-24T14:00:30.718Z"
   },
   {
    "duration": 140,
    "start_time": "2022-09-24T14:01:06.477Z"
   },
   {
    "duration": 162,
    "start_time": "2022-09-24T14:01:23.796Z"
   },
   {
    "duration": 24,
    "start_time": "2022-09-24T14:02:17.329Z"
   },
   {
    "duration": 132,
    "start_time": "2022-09-24T14:02:31.182Z"
   },
   {
    "duration": 143,
    "start_time": "2022-09-24T14:02:53.581Z"
   },
   {
    "duration": 139,
    "start_time": "2022-09-24T14:02:56.789Z"
   },
   {
    "duration": 17,
    "start_time": "2022-09-24T14:03:13.563Z"
   },
   {
    "duration": 52,
    "start_time": "2022-09-24T14:23:43.691Z"
   },
   {
    "duration": 1499,
    "start_time": "2022-09-24T14:24:07.385Z"
   },
   {
    "duration": 32,
    "start_time": "2022-09-24T14:24:08.886Z"
   },
   {
    "duration": 8,
    "start_time": "2022-09-24T14:24:08.920Z"
   },
   {
    "duration": 22,
    "start_time": "2022-09-24T14:24:08.930Z"
   },
   {
    "duration": 21,
    "start_time": "2022-09-24T14:24:08.954Z"
   },
   {
    "duration": 34,
    "start_time": "2022-09-24T14:24:08.976Z"
   },
   {
    "duration": 16,
    "start_time": "2022-09-24T14:24:09.012Z"
   },
   {
    "duration": 13,
    "start_time": "2022-09-24T14:24:09.030Z"
   },
   {
    "duration": 14,
    "start_time": "2022-09-24T14:24:09.044Z"
   },
   {
    "duration": 482,
    "start_time": "2022-09-24T14:24:09.060Z"
   },
   {
    "duration": 296,
    "start_time": "2022-09-24T14:24:09.544Z"
   },
   {
    "duration": 436,
    "start_time": "2022-09-24T14:24:09.842Z"
   },
   {
    "duration": 556,
    "start_time": "2022-09-24T14:24:10.280Z"
   },
   {
    "duration": 393,
    "start_time": "2022-09-24T14:24:10.838Z"
   },
   {
    "duration": 290,
    "start_time": "2022-09-24T14:24:11.233Z"
   },
   {
    "duration": 212,
    "start_time": "2022-09-24T14:24:11.525Z"
   },
   {
    "duration": 175,
    "start_time": "2022-09-24T14:24:11.738Z"
   },
   {
    "duration": 11,
    "start_time": "2022-09-24T14:24:11.915Z"
   },
   {
    "duration": 9,
    "start_time": "2022-09-24T14:24:11.928Z"
   },
   {
    "duration": 72,
    "start_time": "2022-09-24T14:24:11.939Z"
   },
   {
    "duration": 16,
    "start_time": "2022-09-24T14:24:12.013Z"
   },
   {
    "duration": 63,
    "start_time": "2022-09-25T07:47:49.583Z"
   },
   {
    "duration": 1336,
    "start_time": "2022-09-25T07:47:58.745Z"
   },
   {
    "duration": 220,
    "start_time": "2022-09-25T07:48:00.084Z"
   },
   {
    "duration": 37,
    "start_time": "2022-09-25T07:48:08.425Z"
   },
   {
    "duration": 8,
    "start_time": "2022-09-25T07:48:09.833Z"
   },
   {
    "duration": 27,
    "start_time": "2022-09-25T07:48:10.647Z"
   },
   {
    "duration": 19,
    "start_time": "2022-09-25T07:48:11.465Z"
   },
   {
    "duration": 13,
    "start_time": "2022-09-25T07:48:12.385Z"
   },
   {
    "duration": 13,
    "start_time": "2022-09-25T07:49:23.786Z"
   },
   {
    "duration": 12,
    "start_time": "2022-09-25T07:49:45.265Z"
   },
   {
    "duration": 14,
    "start_time": "2022-09-25T07:50:05.806Z"
   },
   {
    "duration": 13,
    "start_time": "2022-09-25T07:52:32.738Z"
   },
   {
    "duration": 15,
    "start_time": "2022-09-25T07:53:11.871Z"
   },
   {
    "duration": 1255,
    "start_time": "2022-09-25T07:53:26.619Z"
   },
   {
    "duration": 105,
    "start_time": "2022-09-25T07:53:27.876Z"
   },
   {
    "duration": 57,
    "start_time": "2022-09-25T07:53:27.982Z"
   },
   {
    "duration": 7,
    "start_time": "2022-09-25T07:53:28.041Z"
   },
   {
    "duration": 39,
    "start_time": "2022-09-25T07:53:28.050Z"
   },
   {
    "duration": 20,
    "start_time": "2022-09-25T07:53:28.104Z"
   },
   {
    "duration": 10,
    "start_time": "2022-09-25T07:53:28.125Z"
   },
   {
    "duration": 13,
    "start_time": "2022-09-25T07:53:28.137Z"
   },
   {
    "duration": 17,
    "start_time": "2022-09-25T07:53:28.152Z"
   },
   {
    "duration": 27,
    "start_time": "2022-09-25T07:53:28.170Z"
   },
   {
    "duration": 611,
    "start_time": "2022-09-25T07:53:28.200Z"
   },
   {
    "duration": 387,
    "start_time": "2022-09-25T07:53:28.814Z"
   },
   {
    "duration": 474,
    "start_time": "2022-09-25T07:53:29.212Z"
   },
   {
    "duration": 716,
    "start_time": "2022-09-25T07:53:29.689Z"
   },
   {
    "duration": 473,
    "start_time": "2022-09-25T07:53:30.408Z"
   },
   {
    "duration": 330,
    "start_time": "2022-09-25T07:53:30.883Z"
   },
   {
    "duration": 242,
    "start_time": "2022-09-25T07:53:31.216Z"
   },
   {
    "duration": 191,
    "start_time": "2022-09-25T07:53:31.460Z"
   },
   {
    "duration": 11,
    "start_time": "2022-09-25T07:53:31.653Z"
   },
   {
    "duration": 61,
    "start_time": "2022-09-25T07:53:31.666Z"
   },
   {
    "duration": 43,
    "start_time": "2022-09-25T07:53:31.729Z"
   },
   {
    "duration": 45,
    "start_time": "2022-09-25T07:53:31.773Z"
   },
   {
    "duration": 20,
    "start_time": "2022-09-25T07:55:19.979Z"
   },
   {
    "duration": 14,
    "start_time": "2022-09-25T07:55:32.214Z"
   },
   {
    "duration": 117,
    "start_time": "2022-09-25T07:56:05.468Z"
   },
   {
    "duration": 15,
    "start_time": "2022-09-25T07:56:09.813Z"
   },
   {
    "duration": 1265,
    "start_time": "2022-09-25T07:56:26.291Z"
   },
   {
    "duration": 98,
    "start_time": "2022-09-25T07:56:27.558Z"
   },
   {
    "duration": 46,
    "start_time": "2022-09-25T07:56:27.658Z"
   },
   {
    "duration": 23,
    "start_time": "2022-09-25T07:56:27.710Z"
   },
   {
    "duration": 37,
    "start_time": "2022-09-25T07:56:27.735Z"
   },
   {
    "duration": 74,
    "start_time": "2022-09-25T07:56:27.774Z"
   },
   {
    "duration": 21,
    "start_time": "2022-09-25T07:56:27.849Z"
   },
   {
    "duration": 36,
    "start_time": "2022-09-25T07:56:27.871Z"
   },
   {
    "duration": 36,
    "start_time": "2022-09-25T07:56:27.909Z"
   },
   {
    "duration": 13,
    "start_time": "2022-09-25T07:56:27.947Z"
   },
   {
    "duration": 617,
    "start_time": "2022-09-25T07:56:27.961Z"
   },
   {
    "duration": 388,
    "start_time": "2022-09-25T07:56:28.580Z"
   },
   {
    "duration": 516,
    "start_time": "2022-09-25T07:56:28.970Z"
   },
   {
    "duration": 703,
    "start_time": "2022-09-25T07:56:29.490Z"
   },
   {
    "duration": 464,
    "start_time": "2022-09-25T07:56:30.196Z"
   },
   {
    "duration": 363,
    "start_time": "2022-09-25T07:56:30.661Z"
   },
   {
    "duration": 248,
    "start_time": "2022-09-25T07:56:31.026Z"
   },
   {
    "duration": 201,
    "start_time": "2022-09-25T07:56:31.275Z"
   },
   {
    "duration": 23,
    "start_time": "2022-09-25T07:56:31.478Z"
   },
   {
    "duration": 39,
    "start_time": "2022-09-25T07:56:31.509Z"
   },
   {
    "duration": 47,
    "start_time": "2022-09-25T07:56:31.550Z"
   },
   {
    "duration": 75,
    "start_time": "2022-09-25T07:56:31.599Z"
   },
   {
    "duration": 475,
    "start_time": "2022-09-25T07:58:36.149Z"
   },
   {
    "duration": 42,
    "start_time": "2022-09-25T08:08:00.570Z"
   },
   {
    "duration": 128,
    "start_time": "2022-09-25T08:14:38.480Z"
   },
   {
    "duration": 67,
    "start_time": "2022-09-25T08:15:29.061Z"
   },
   {
    "duration": 117,
    "start_time": "2022-09-25T08:15:52.840Z"
   },
   {
    "duration": 29,
    "start_time": "2022-09-25T08:17:03.940Z"
   },
   {
    "duration": 26,
    "start_time": "2022-09-25T08:18:20.095Z"
   },
   {
    "duration": 18,
    "start_time": "2022-09-25T08:19:22.622Z"
   },
   {
    "duration": 23,
    "start_time": "2022-09-25T08:20:02.255Z"
   },
   {
    "duration": 20,
    "start_time": "2022-09-25T08:20:41.910Z"
   },
   {
    "duration": 19,
    "start_time": "2022-09-25T08:23:33.886Z"
   },
   {
    "duration": 9,
    "start_time": "2022-09-25T08:24:41.285Z"
   },
   {
    "duration": 13,
    "start_time": "2022-09-25T08:24:43.865Z"
   },
   {
    "duration": 22,
    "start_time": "2022-09-25T08:25:08.413Z"
   },
   {
    "duration": 19,
    "start_time": "2022-09-25T08:25:18.316Z"
   },
   {
    "duration": 15,
    "start_time": "2022-09-25T08:25:37.713Z"
   },
   {
    "duration": 12,
    "start_time": "2022-09-25T08:25:43.137Z"
   },
   {
    "duration": 8,
    "start_time": "2022-09-25T08:25:54.268Z"
   },
   {
    "duration": 1326,
    "start_time": "2022-09-25T08:26:13.859Z"
   },
   {
    "duration": 101,
    "start_time": "2022-09-25T08:26:15.187Z"
   },
   {
    "duration": 54,
    "start_time": "2022-09-25T08:26:15.297Z"
   },
   {
    "duration": 11,
    "start_time": "2022-09-25T08:26:15.354Z"
   },
   {
    "duration": 79,
    "start_time": "2022-09-25T08:26:15.369Z"
   },
   {
    "duration": 36,
    "start_time": "2022-09-25T08:26:15.450Z"
   },
   {
    "duration": 26,
    "start_time": "2022-09-25T08:26:15.488Z"
   },
   {
    "duration": 47,
    "start_time": "2022-09-25T08:26:15.516Z"
   },
   {
    "duration": 23,
    "start_time": "2022-09-25T08:26:15.565Z"
   },
   {
    "duration": 36,
    "start_time": "2022-09-25T08:26:15.599Z"
   },
   {
    "duration": 634,
    "start_time": "2022-09-25T08:26:15.637Z"
   },
   {
    "duration": 34,
    "start_time": "2022-09-25T08:26:16.273Z"
   },
   {
    "duration": 43,
    "start_time": "2022-09-25T08:26:16.309Z"
   },
   {
    "duration": 408,
    "start_time": "2022-09-25T08:26:16.356Z"
   },
   {
    "duration": 534,
    "start_time": "2022-09-25T08:26:16.766Z"
   },
   {
    "duration": 797,
    "start_time": "2022-09-25T08:26:17.302Z"
   },
   {
    "duration": 512,
    "start_time": "2022-09-25T08:26:18.101Z"
   },
   {
    "duration": 366,
    "start_time": "2022-09-25T08:26:18.615Z"
   },
   {
    "duration": 269,
    "start_time": "2022-09-25T08:26:18.983Z"
   },
   {
    "duration": 216,
    "start_time": "2022-09-25T08:26:19.255Z"
   },
   {
    "duration": 34,
    "start_time": "2022-09-25T08:26:19.473Z"
   },
   {
    "duration": 27,
    "start_time": "2022-09-25T08:26:19.514Z"
   },
   {
    "duration": 42,
    "start_time": "2022-09-25T08:26:19.542Z"
   },
   {
    "duration": 42,
    "start_time": "2022-09-25T08:26:19.587Z"
   },
   {
    "duration": 81,
    "start_time": "2022-09-25T08:28:19.467Z"
   },
   {
    "duration": 130,
    "start_time": "2022-09-25T08:28:23.040Z"
   },
   {
    "duration": 33,
    "start_time": "2022-09-25T08:28:39.093Z"
   },
   {
    "duration": 15,
    "start_time": "2022-09-25T08:29:42.094Z"
   },
   {
    "duration": 29,
    "start_time": "2022-09-25T08:29:44.118Z"
   },
   {
    "duration": 19,
    "start_time": "2022-09-25T08:29:44.450Z"
   },
   {
    "duration": 11,
    "start_time": "2022-09-25T08:29:44.770Z"
   },
   {
    "duration": 14,
    "start_time": "2022-09-25T08:29:45.270Z"
   },
   {
    "duration": 13,
    "start_time": "2022-09-25T08:29:46.461Z"
   },
   {
    "duration": 13,
    "start_time": "2022-09-25T08:29:48.269Z"
   },
   {
    "duration": 518,
    "start_time": "2022-09-25T08:29:50.522Z"
   },
   {
    "duration": 26,
    "start_time": "2022-09-25T08:30:31.696Z"
   },
   {
    "duration": 44,
    "start_time": "2022-09-25T08:30:39.381Z"
   },
   {
    "duration": 488,
    "start_time": "2022-09-25T08:33:23.471Z"
   },
   {
    "duration": 461,
    "start_time": "2022-09-25T08:33:35.742Z"
   },
   {
    "duration": 766,
    "start_time": "2022-09-25T08:33:48.012Z"
   },
   {
    "duration": 715,
    "start_time": "2022-09-25T08:35:16.147Z"
   },
   {
    "duration": 21,
    "start_time": "2022-09-25T08:37:22.918Z"
   },
   {
    "duration": 24,
    "start_time": "2022-09-25T08:37:53.931Z"
   },
   {
    "duration": 36,
    "start_time": "2022-09-25T08:38:26.459Z"
   },
   {
    "duration": 35,
    "start_time": "2022-09-25T08:38:39.742Z"
   },
   {
    "duration": 23,
    "start_time": "2022-09-25T08:39:08.561Z"
   },
   {
    "duration": 29,
    "start_time": "2022-09-25T08:39:48.107Z"
   },
   {
    "duration": 484,
    "start_time": "2022-09-25T08:42:45.759Z"
   },
   {
    "duration": 318,
    "start_time": "2022-09-25T08:42:59.616Z"
   },
   {
    "duration": 226,
    "start_time": "2022-09-25T08:43:20.922Z"
   },
   {
    "duration": 243,
    "start_time": "2022-09-25T08:56:32.961Z"
   },
   {
    "duration": 263,
    "start_time": "2022-09-25T08:56:45.882Z"
   },
   {
    "duration": 222,
    "start_time": "2022-09-25T08:56:56.724Z"
   },
   {
    "duration": 303,
    "start_time": "2022-09-25T08:57:11.906Z"
   },
   {
    "duration": 282,
    "start_time": "2022-09-25T08:57:21.979Z"
   },
   {
    "duration": 131,
    "start_time": "2022-09-25T08:58:24.280Z"
   },
   {
    "duration": 300,
    "start_time": "2022-09-25T09:00:36.750Z"
   },
   {
    "duration": 99,
    "start_time": "2022-09-25T09:00:49.161Z"
   },
   {
    "duration": 175,
    "start_time": "2022-09-25T09:00:59.770Z"
   },
   {
    "duration": 81,
    "start_time": "2022-09-25T09:01:30.089Z"
   },
   {
    "duration": 124,
    "start_time": "2022-09-25T09:01:53.817Z"
   },
   {
    "duration": 24,
    "start_time": "2022-09-25T09:03:23.311Z"
   },
   {
    "duration": 138,
    "start_time": "2022-09-25T09:04:47.580Z"
   },
   {
    "duration": 22,
    "start_time": "2022-09-25T09:05:15.719Z"
   },
   {
    "duration": 16,
    "start_time": "2022-09-25T09:06:41.386Z"
   },
   {
    "duration": 10,
    "start_time": "2022-09-25T09:06:52.660Z"
   },
   {
    "duration": 22,
    "start_time": "2022-09-25T09:09:16.791Z"
   },
   {
    "duration": 14,
    "start_time": "2022-09-25T09:09:49.659Z"
   },
   {
    "duration": 1263,
    "start_time": "2022-09-25T09:16:27.236Z"
   },
   {
    "duration": 119,
    "start_time": "2022-09-25T09:16:28.505Z"
   },
   {
    "duration": 41,
    "start_time": "2022-09-25T09:16:28.626Z"
   },
   {
    "duration": 6,
    "start_time": "2022-09-25T09:16:28.669Z"
   },
   {
    "duration": 75,
    "start_time": "2022-09-25T09:16:28.678Z"
   },
   {
    "duration": 19,
    "start_time": "2022-09-25T09:16:28.755Z"
   },
   {
    "duration": 15,
    "start_time": "2022-09-25T09:16:28.776Z"
   },
   {
    "duration": 39,
    "start_time": "2022-09-25T09:16:28.803Z"
   },
   {
    "duration": 37,
    "start_time": "2022-09-25T09:16:28.843Z"
   },
   {
    "duration": 31,
    "start_time": "2022-09-25T09:16:28.883Z"
   },
   {
    "duration": 627,
    "start_time": "2022-09-25T09:16:28.920Z"
   },
   {
    "duration": 22,
    "start_time": "2022-09-25T09:16:29.548Z"
   },
   {
    "duration": 36,
    "start_time": "2022-09-25T09:16:29.599Z"
   },
   {
    "duration": 374,
    "start_time": "2022-09-25T09:16:29.638Z"
   },
   {
    "duration": 554,
    "start_time": "2022-09-25T09:16:30.021Z"
   },
   {
    "duration": 790,
    "start_time": "2022-09-25T09:16:30.576Z"
   },
   {
    "duration": 32,
    "start_time": "2022-09-25T09:16:31.368Z"
   },
   {
    "duration": 55,
    "start_time": "2022-09-25T09:16:31.402Z"
   },
   {
    "duration": 483,
    "start_time": "2022-09-25T09:16:31.459Z"
   },
   {
    "duration": 395,
    "start_time": "2022-09-25T09:16:31.945Z"
   },
   {
    "duration": 229,
    "start_time": "2022-09-25T09:16:32.344Z"
   },
   {
    "duration": 325,
    "start_time": "2022-09-25T09:16:32.574Z"
   },
   {
    "duration": 181,
    "start_time": "2022-09-25T09:16:32.903Z"
   },
   {
    "duration": 40,
    "start_time": "2022-09-25T09:16:33.089Z"
   },
   {
    "duration": 10,
    "start_time": "2022-09-25T09:16:33.131Z"
   },
   {
    "duration": 32,
    "start_time": "2022-09-25T09:16:33.143Z"
   },
   {
    "duration": 50,
    "start_time": "2022-09-25T09:16:33.177Z"
   },
   {
    "duration": 37,
    "start_time": "2022-09-25T09:18:56.814Z"
   },
   {
    "duration": 35,
    "start_time": "2022-09-25T09:19:24.529Z"
   },
   {
    "duration": 21,
    "start_time": "2022-09-25T09:20:30.749Z"
   },
   {
    "duration": 27,
    "start_time": "2022-09-25T09:20:42.005Z"
   },
   {
    "duration": 234,
    "start_time": "2022-09-25T09:23:16.917Z"
   },
   {
    "duration": 246,
    "start_time": "2022-09-25T09:23:22.639Z"
   },
   {
    "duration": 68,
    "start_time": "2022-09-25T20:54:53.230Z"
   },
   {
    "duration": 1370,
    "start_time": "2022-09-25T20:55:01.657Z"
   },
   {
    "duration": 200,
    "start_time": "2022-09-25T20:55:03.029Z"
   },
   {
    "duration": 34,
    "start_time": "2022-09-25T20:55:03.231Z"
   },
   {
    "duration": 7,
    "start_time": "2022-09-25T20:55:03.267Z"
   },
   {
    "duration": 24,
    "start_time": "2022-09-25T20:55:03.276Z"
   },
   {
    "duration": 27,
    "start_time": "2022-09-25T20:55:03.311Z"
   },
   {
    "duration": 11,
    "start_time": "2022-09-25T20:55:03.340Z"
   },
   {
    "duration": 15,
    "start_time": "2022-09-25T20:55:03.353Z"
   },
   {
    "duration": 12,
    "start_time": "2022-09-25T20:55:03.369Z"
   },
   {
    "duration": 40,
    "start_time": "2022-09-25T20:55:03.383Z"
   },
   {
    "duration": 521,
    "start_time": "2022-09-25T20:55:03.425Z"
   },
   {
    "duration": 17,
    "start_time": "2022-09-25T20:55:03.948Z"
   },
   {
    "duration": 23,
    "start_time": "2022-09-25T20:55:03.966Z"
   },
   {
    "duration": 334,
    "start_time": "2022-09-25T20:55:04.009Z"
   },
   {
    "duration": 486,
    "start_time": "2022-09-25T20:55:04.344Z"
   },
   {
    "duration": 664,
    "start_time": "2022-09-25T20:55:04.832Z"
   },
   {
    "duration": 24,
    "start_time": "2022-09-25T20:55:05.498Z"
   },
   {
    "duration": 32,
    "start_time": "2022-09-25T20:55:05.523Z"
   },
   {
    "duration": 395,
    "start_time": "2022-09-25T20:55:05.558Z"
   },
   {
    "duration": 306,
    "start_time": "2022-09-25T20:55:05.955Z"
   },
   {
    "duration": 219,
    "start_time": "2022-09-25T20:55:06.263Z"
   },
   {
    "duration": 294,
    "start_time": "2022-09-25T20:55:06.484Z"
   },
   {
    "duration": 198,
    "start_time": "2022-09-25T20:55:06.779Z"
   },
   {
    "duration": 13,
    "start_time": "2022-09-25T20:55:06.979Z"
   },
   {
    "duration": 34,
    "start_time": "2022-09-25T20:55:06.993Z"
   },
   {
    "duration": 54,
    "start_time": "2022-09-25T20:55:07.029Z"
   },
   {
    "duration": 40,
    "start_time": "2022-09-25T20:55:07.085Z"
   },
   {
    "duration": 117,
    "start_time": "2022-09-25T20:58:29.251Z"
   },
   {
    "duration": 14,
    "start_time": "2022-09-25T20:59:36.586Z"
   },
   {
    "duration": 18,
    "start_time": "2022-09-25T20:59:44.490Z"
   },
   {
    "duration": 4,
    "start_time": "2022-09-25T20:59:51.155Z"
   },
   {
    "duration": 5,
    "start_time": "2022-09-25T20:59:55.224Z"
   },
   {
    "duration": 6,
    "start_time": "2022-09-25T21:00:00.256Z"
   },
   {
    "duration": 7,
    "start_time": "2022-09-25T21:00:09.838Z"
   },
   {
    "duration": 5,
    "start_time": "2022-09-25T21:00:55.595Z"
   },
   {
    "duration": 5,
    "start_time": "2022-09-25T21:01:06.100Z"
   },
   {
    "duration": 7,
    "start_time": "2022-09-25T21:01:22.242Z"
   },
   {
    "duration": 102,
    "start_time": "2022-09-26T16:01:30.311Z"
   },
   {
    "duration": 60,
    "start_time": "2022-09-26T16:13:51.789Z"
   },
   {
    "duration": 1403,
    "start_time": "2022-09-26T16:15:35.933Z"
   },
   {
    "duration": 188,
    "start_time": "2022-09-26T16:15:37.338Z"
   },
   {
    "duration": 42,
    "start_time": "2022-09-26T16:15:37.528Z"
   },
   {
    "duration": 8,
    "start_time": "2022-09-26T16:15:37.572Z"
   },
   {
    "duration": 46,
    "start_time": "2022-09-26T16:15:37.583Z"
   },
   {
    "duration": 18,
    "start_time": "2022-09-26T16:15:37.631Z"
   },
   {
    "duration": 12,
    "start_time": "2022-09-26T16:15:37.651Z"
   },
   {
    "duration": 16,
    "start_time": "2022-09-26T16:15:37.665Z"
   },
   {
    "duration": 46,
    "start_time": "2022-09-26T16:15:37.682Z"
   },
   {
    "duration": 13,
    "start_time": "2022-09-26T16:15:37.730Z"
   },
   {
    "duration": 531,
    "start_time": "2022-09-26T16:15:37.745Z"
   },
   {
    "duration": 19,
    "start_time": "2022-09-26T16:15:38.278Z"
   },
   {
    "duration": 44,
    "start_time": "2022-09-26T16:15:38.299Z"
   },
   {
    "duration": 346,
    "start_time": "2022-09-26T16:15:38.346Z"
   },
   {
    "duration": 569,
    "start_time": "2022-09-26T16:15:38.694Z"
   },
   {
    "duration": 682,
    "start_time": "2022-09-26T16:15:39.265Z"
   },
   {
    "duration": 25,
    "start_time": "2022-09-26T16:15:39.949Z"
   },
   {
    "duration": 24,
    "start_time": "2022-09-26T16:15:39.976Z"
   },
   {
    "duration": 451,
    "start_time": "2022-09-26T16:15:40.002Z"
   },
   {
    "duration": 314,
    "start_time": "2022-09-26T16:15:40.455Z"
   },
   {
    "duration": 215,
    "start_time": "2022-09-26T16:15:40.771Z"
   },
   {
    "duration": 300,
    "start_time": "2022-09-26T16:15:40.988Z"
   },
   {
    "duration": 183,
    "start_time": "2022-09-26T16:15:41.289Z"
   },
   {
    "duration": 14,
    "start_time": "2022-09-26T16:15:41.474Z"
   },
   {
    "duration": 31,
    "start_time": "2022-09-26T16:15:41.490Z"
   },
   {
    "duration": 31,
    "start_time": "2022-09-26T16:15:41.523Z"
   },
   {
    "duration": 20,
    "start_time": "2022-09-26T16:15:41.556Z"
   },
   {
    "duration": 68,
    "start_time": "2022-09-26T16:22:24.608Z"
   },
   {
    "duration": 53,
    "start_time": "2022-10-02T07:51:21.209Z"
   },
   {
    "duration": 1195,
    "start_time": "2022-10-02T07:51:30.782Z"
   },
   {
    "duration": 244,
    "start_time": "2022-10-02T07:51:31.979Z"
   },
   {
    "duration": 34,
    "start_time": "2022-10-02T07:51:32.225Z"
   },
   {
    "duration": 27,
    "start_time": "2022-10-02T07:51:32.261Z"
   },
   {
    "duration": 44,
    "start_time": "2022-10-02T07:51:32.290Z"
   },
   {
    "duration": 32,
    "start_time": "2022-10-02T07:51:32.335Z"
   },
   {
    "duration": 16,
    "start_time": "2022-10-02T07:51:32.368Z"
   },
   {
    "duration": 34,
    "start_time": "2022-10-02T07:51:32.385Z"
   },
   {
    "duration": 31,
    "start_time": "2022-10-02T07:51:32.420Z"
   },
   {
    "duration": 24,
    "start_time": "2022-10-02T07:51:32.453Z"
   },
   {
    "duration": 562,
    "start_time": "2022-10-02T07:51:32.479Z"
   },
   {
    "duration": 20,
    "start_time": "2022-10-02T07:51:33.043Z"
   },
   {
    "duration": 39,
    "start_time": "2022-10-02T07:51:33.065Z"
   },
   {
    "duration": 347,
    "start_time": "2022-10-02T07:51:33.120Z"
   },
   {
    "duration": 437,
    "start_time": "2022-10-02T07:51:33.469Z"
   },
   {
    "duration": 664,
    "start_time": "2022-10-02T07:51:33.907Z"
   },
   {
    "duration": 23,
    "start_time": "2022-10-02T07:51:34.573Z"
   },
   {
    "duration": 29,
    "start_time": "2022-10-02T07:51:34.597Z"
   },
   {
    "duration": 434,
    "start_time": "2022-10-02T07:51:34.628Z"
   },
   {
    "duration": 327,
    "start_time": "2022-10-02T07:51:35.064Z"
   },
   {
    "duration": 226,
    "start_time": "2022-10-02T07:51:35.393Z"
   },
   {
    "duration": 311,
    "start_time": "2022-10-02T07:51:35.622Z"
   },
   {
    "duration": 235,
    "start_time": "2022-10-02T07:51:35.935Z"
   },
   {
    "duration": 14,
    "start_time": "2022-10-02T07:51:36.172Z"
   },
   {
    "duration": 41,
    "start_time": "2022-10-02T07:51:36.188Z"
   },
   {
    "duration": 47,
    "start_time": "2022-10-02T07:51:36.231Z"
   },
   {
    "duration": 18,
    "start_time": "2022-10-02T07:51:36.280Z"
   },
   {
    "duration": 183,
    "start_time": "2022-10-02T08:01:44.908Z"
   },
   {
    "duration": 13,
    "start_time": "2022-10-02T08:52:49.972Z"
   },
   {
    "duration": 1128,
    "start_time": "2022-11-26T13:10:19.534Z"
   },
   {
    "duration": 227,
    "start_time": "2022-11-26T13:10:20.664Z"
   },
   {
    "duration": 35,
    "start_time": "2022-11-26T13:10:20.893Z"
   },
   {
    "duration": 8,
    "start_time": "2022-11-26T13:10:20.930Z"
   },
   {
    "duration": 30,
    "start_time": "2022-11-26T13:10:20.941Z"
   },
   {
    "duration": 39,
    "start_time": "2022-11-26T13:10:20.973Z"
   },
   {
    "duration": 13,
    "start_time": "2022-11-26T13:10:21.014Z"
   },
   {
    "duration": 15,
    "start_time": "2022-11-26T13:10:21.029Z"
   },
   {
    "duration": 14,
    "start_time": "2022-11-26T13:10:21.045Z"
   },
   {
    "duration": 14,
    "start_time": "2022-11-26T13:10:21.061Z"
   },
   {
    "duration": 555,
    "start_time": "2022-11-26T13:10:21.077Z"
   },
   {
    "duration": 18,
    "start_time": "2022-11-26T13:10:21.634Z"
   },
   {
    "duration": 24,
    "start_time": "2022-11-26T13:10:21.654Z"
   },
   {
    "duration": 349,
    "start_time": "2022-11-26T13:10:21.681Z"
   },
   {
    "duration": 425,
    "start_time": "2022-11-26T13:10:22.032Z"
   },
   {
    "duration": 644,
    "start_time": "2022-11-26T13:10:22.459Z"
   },
   {
    "duration": 23,
    "start_time": "2022-11-26T13:10:23.106Z"
   },
   {
    "duration": 23,
    "start_time": "2022-11-26T13:10:23.131Z"
   },
   {
    "duration": 413,
    "start_time": "2022-11-26T13:10:23.156Z"
   },
   {
    "duration": 287,
    "start_time": "2022-11-26T13:10:23.570Z"
   },
   {
    "duration": 214,
    "start_time": "2022-11-26T13:10:23.858Z"
   },
   {
    "duration": 295,
    "start_time": "2022-11-26T13:10:24.074Z"
   },
   {
    "duration": 173,
    "start_time": "2022-11-26T13:10:24.371Z"
   },
   {
    "duration": 9,
    "start_time": "2022-11-26T13:10:24.546Z"
   },
   {
    "duration": 14,
    "start_time": "2022-11-26T13:10:24.556Z"
   },
   {
    "duration": 11,
    "start_time": "2022-11-26T13:10:24.572Z"
   },
   {
    "duration": 32,
    "start_time": "2022-11-26T13:10:24.613Z"
   },
   {
    "duration": 18,
    "start_time": "2022-11-26T13:10:24.647Z"
   }
  ],
  "kernelspec": {
   "display_name": "Python 3 (ipykernel)",
   "language": "python",
   "name": "python3"
  },
  "language_info": {
   "codemirror_mode": {
    "name": "ipython",
    "version": 3
   },
   "file_extension": ".py",
   "mimetype": "text/x-python",
   "name": "python",
   "nbconvert_exporter": "python",
   "pygments_lexer": "ipython3",
   "version": "3.9.5"
  },
  "toc": {
   "base_numbering": 1,
   "nav_menu": {},
   "number_sections": true,
   "sideBar": true,
   "skip_h1_title": true,
   "title_cell": "Table of Contents",
   "title_sidebar": "Contents",
   "toc_cell": false,
   "toc_position": {},
   "toc_section_display": true,
   "toc_window_display": false
  }
 },
 "nbformat": 4,
 "nbformat_minor": 2
}
